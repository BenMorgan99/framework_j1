{
 "cells": [
  {
   "cell_type": "code",
   "execution_count": 0,
   "metadata": {
    "application/vnd.databricks.v1+cell": {
     "cellMetadata": {
      "byteLimit": 2048000,
      "rowLimit": 10000
     },
     "inputWidgets": {},
     "nuid": "321295ce-18ab-4378-867b-dbf30857fcfc",
     "showTitle": true,
     "tableResultSettingsMap": {},
     "title": "KeyVault"
    }
   },
   "outputs": [],
   "source": [
    "# Set KeyVault Variables:\n",
    "secret_scope         = \"carbonScope\"\n",
    "storage_account_name = dbutils.secrets.get(scope=secret_scope, key=\"storageAccountName\")\n",
    "sas_token            = dbutils.secrets.get(scope=secret_scope, key=\"sasToken\")"
   ]
  },
  {
   "cell_type": "code",
   "execution_count": 0,
   "metadata": {
    "application/vnd.databricks.v1+cell": {
     "cellMetadata": {
      "byteLimit": 2048000,
      "rowLimit": 10000
     },
     "inputWidgets": {},
     "nuid": "d6437c01-11bf-4235-9352-30ecc1a95604",
     "showTitle": true,
     "tableResultSettingsMap": {},
     "title": "Spark"
    }
   },
   "outputs": [],
   "source": [
    "# Set Spark configuration:\n",
    "spark.conf.set(f\"fs.azure.account.auth.type.{storage_account_name}.dfs.core.windows.net\", \"SAS\") \n",
    "spark.conf.set(f\"fs.azure.sas.token.provider.type.{storage_account_name}.dfs.core.windows.net\", \"org.apache.hadoop.fs.azurebfs.sas.FixedSASTokenProvider\") \n",
    "spark.conf.set(f\"fs.azure.sas.fixed.token.{storage_account_name}.dfs.core.windows.net\", sas_token) "
   ]
  },
  {
   "cell_type": "code",
   "execution_count": 0,
   "metadata": {
    "application/vnd.databricks.v1+cell": {
     "cellMetadata": {
      "byteLimit": 2048000,
      "rowLimit": 10000
     },
     "inputWidgets": {},
     "nuid": "0c8cf051-e2ed-4a25-86d3-7cc71c728637",
     "showTitle": true,
     "tableResultSettingsMap": {},
     "title": "FilePaths"
    }
   },
   "outputs": [],
   "source": [
    "# Set locations to dataLake:\n",
    "RAW             = \"abfss://carbonone@sjpcarbon.dfs.core.windows.net/framework-j1/RAW\"\n",
    "TRANSFORM       = \"abfss://carbonone@sjpcarbon.dfs.core.windows.net/framework-j1/TRANSFORM\"\n",
    "CURATE          = \"abfss://carbonone@sjpcarbon.dfs.core.windows.net/framework-j1/CURATE\"\n",
    "\n",
    "BRONZE          = \"abfss://carbonone@sjpcarbon.dfs.core.windows.net/framework-j1/BRONZE\"\n",
    "SILVER          = \"abfss://carbonone@sjpcarbon.dfs.core.windows.net/framework-j1/SILVER\"\n",
    "GOLD            = \"abfss://carbonone@sjpcarbon.dfs.core.windows.net/framework-j1/GOLD\""
   ]
  },
  {
   "cell_type": "code",
   "execution_count": 0,
   "metadata": {
    "application/vnd.databricks.v1+cell": {
     "cellMetadata": {
      "byteLimit": 2048000,
      "rowLimit": 10000
     },
     "inputWidgets": {},
     "nuid": "36d88f50-a37c-4e68-bdc5-eec06f304ab1",
     "showTitle": true,
     "tableResultSettingsMap": {},
     "title": "Requirements"
    }
   },
   "outputs": [],
   "source": [
    "import json\n",
    "import requests\n",
    "from io import BytesIO\n",
    "import datetime\n",
    "from pyspark.sql.types import StructField, IntegerType, StringType, StructType, DoubleType, DateType, DecimalType, BooleanType, TimestampType"
   ]
  },
  {
   "cell_type": "code",
   "execution_count": 0,
   "metadata": {
    "application/vnd.databricks.v1+cell": {
     "cellMetadata": {},
     "inputWidgets": {},
     "nuid": "a180c279-b3f0-49e5-9968-1637d5f5ba00",
     "showTitle": true,
     "tableResultSettingsMap": {},
     "title": "Helper Functions"
    }
   },
   "outputs": [],
   "source": [
    "# Iterate through an object to create a schema:\n",
    "def create_struct(obj):\n",
    "    # Map strings to dataTypes:\n",
    "    type_dict = {'int': IntegerType(), 'string': StringType(), 'decimal': DecimalType(), 'boolean': BooleanType(), 'date': DateType(), 'timestamp': TimestampType()}\n",
    "    \n",
    "    # Create Schema\n",
    "    schema = StructType([\n",
    "        StructField(value['columnName'], type_dict[value['dataType']], True) \n",
    "        for value in obj\n",
    "    ])\n",
    "    return schema"
   ]
  }
 ],
 "metadata": {
  "application/vnd.databricks.v1+notebook": {
   "computePreferences": null,
   "dashboards": [],
   "environmentMetadata": {
    "base_environment": "",
    "environment_version": "2"
   },
   "language": "python",
   "notebookMetadata": {
    "pythonIndentUnit": 4
   },
   "notebookName": "Configuration",
   "widgets": {}
  },
  "language_info": {
   "name": "python"
  }
 },
 "nbformat": 4,
 "nbformat_minor": 0
}
