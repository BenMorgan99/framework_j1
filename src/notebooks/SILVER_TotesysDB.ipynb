{
 "cells": [
  {
   "cell_type": "code",
   "execution_count": 0,
   "metadata": {
    "application/vnd.databricks.v1+cell": {
     "cellMetadata": {
      "byteLimit": 2048000,
      "rowLimit": 10000
     },
     "inputWidgets": {},
     "nuid": "7b12ff3c-2e6f-442f-977c-295ddbb2b306",
     "showTitle": false,
     "tableResultSettingsMap": {},
     "title": ""
    }
   },
   "outputs": [],
   "source": [
    "%run \"./Configuration\""
   ]
  },
  {
   "cell_type": "code",
   "execution_count": 0,
   "metadata": {
    "application/vnd.databricks.v1+cell": {
     "cellMetadata": {
      "byteLimit": 2048000,
      "rowLimit": 10000
     },
     "inputWidgets": {},
     "nuid": "1b282c9c-af9f-4884-9c85-396ca8bc2049",
     "showTitle": true,
     "tableResultSettingsMap": {},
     "title": "Variables"
    }
   },
   "outputs": [],
   "source": [
    "# Define the metadata widget:\n",
    "dbutils.widgets.text(\"entityName\", \"\")\n",
    "dbutils.widgets.text(\"entityColumns\", \"\")\n",
    "dbutils.widgets.text(\"sourceSystem\", \"\")\n",
    "\n",
    "# Save the parameter to a variable:\n",
    "entityName =       dbutils.widgets.get('entityName')\n",
    "sourceSystemName = dbutils.widgets.get('sourceSystem')\n",
    "columns =          json.loads(dbutils.widgets.get('entityColumns'))"
   ]
  },
  {
   "cell_type": "code",
   "execution_count": 0,
   "metadata": {
    "application/vnd.databricks.v1+cell": {
     "cellMetadata": {
      "byteLimit": 2048000,
      "rowLimit": 10000
     },
     "inputWidgets": {},
     "nuid": "968e9560-257c-4e51-b2b1-8176a4bcf192",
     "showTitle": true,
     "tableResultSettingsMap": {},
     "title": "List Parquets"
    }
   },
   "outputs": [],
   "source": [
    "entity_names = ['counterparty', 'currency', 'department', 'design', 'location', 'payment', 'payment_type', 'purchase_order', 'sales_order', 'staff', 'transaction']"
   ]
  },
  {
   "cell_type": "code",
   "execution_count": 0,
   "metadata": {
    "application/vnd.databricks.v1+cell": {
     "cellMetadata": {
      "byteLimit": 2048000,
      "rowLimit": 10000
     },
     "inputWidgets": {},
     "nuid": "6081f5f3-71fd-443b-a217-fb79d36e7c09",
     "showTitle": true,
     "tableResultSettingsMap": {},
     "title": "Create DataFrames"
    }
   },
   "outputs": [],
   "source": [
    "# For each entity, create a dataFrame:\n",
    "for entity in entity_names:\n",
    "   globals()[f\"df_{entity}\"] = spark.read.format('parquet').load(BRONZE + f'/TotesysDB/{entity}/{datetime.datetime.now().strftime(\"%Y/%m/%d\")}')"
   ]
  },
  {
   "cell_type": "code",
   "execution_count": 0,
   "metadata": {
    "application/vnd.databricks.v1+cell": {
     "cellMetadata": {
      "byteLimit": 2048000,
      "rowLimit": 10000
     },
     "inputWidgets": {},
     "nuid": "cfc65b7e-1b7d-4359-bc66-e04d8d23a8b7",
     "showTitle": true,
     "tableResultSettingsMap": {},
     "title": "Create TempViews"
    }
   },
   "outputs": [],
   "source": [
    "# Iterate through entities to create temp views:\n",
    "for entity in entity_names:\n",
    "    # Create or replace tempView:\n",
    "    globals()[f'df_{entity}'].createOrReplaceTempView(f\"tv_{entity}\")"
   ]
  },
  {
   "cell_type": "code",
   "execution_count": 0,
   "metadata": {
    "application/vnd.databricks.v1+cell": {
     "cellMetadata": {
      "byteLimit": 2048000,
      "rowLimit": 10000
     },
     "inputWidgets": {},
     "nuid": "23c54663-c6c5-4790-a5c3-aa4b12abf7fc",
     "showTitle": true,
     "tableResultSettingsMap": {},
     "title": "Design"
    }
   },
   "outputs": [],
   "source": [
    "if entityName == 'design':\n",
    "    \n",
    "    # Define Dynamic Query:\n",
    "    query = f\"\"\"\n",
    "    SELECT {columns[0]['dataType']}(design_id) AS {columns[0]['columnName']}\n",
    "    , {columns[1]['dataType']}(created_at) AS {columns[1]['columnName']}\n",
    "    , {columns[2]['dataType']}(last_updated) AS {columns[2]['columnName']}\n",
    "    , {columns[3]['dataType']}(design_name) AS {columns[3]['columnName']}\n",
    "    FROM tv_design\n",
    "    \"\"\"\n",
    "    # Execute Query:\n",
    "    df = spark.sql(query)\n",
    "    \n",
    "    \n",
    "    "
   ]
  },
  {
   "cell_type": "code",
   "execution_count": 0,
   "metadata": {
    "application/vnd.databricks.v1+cell": {
     "cellMetadata": {
      "byteLimit": 2048000,
      "rowLimit": 10000
     },
     "inputWidgets": {},
     "nuid": "4a56b7eb-4aee-46c7-a83c-13bc4964dbff",
     "showTitle": false,
     "tableResultSettingsMap": {},
     "title": ""
    }
   },
   "outputs": [],
   "source": [
    "# Check data exists:\n",
    "if df.count() > 0:\n",
    "    folder_path = datetime.datetime.now().strftime(\"%Y/%m/%d\")\n",
    "\n",
    "    # Set location for parquet:\n",
    "    location = SILVER + f\"/{sourceSystemName}/{entityName}/{folder_path}/\"\n",
    "    \n",
    "    # Write parquet to data lake:\n",
    "    df.write.mode('overwrite').format('delta').option('header', 'true').save(location)\n",
    "else:\n",
    "    dbutils.notebook.exit(-1)\n"
   ]
  }
 ],
 "metadata": {
  "application/vnd.databricks.v1+notebook": {
   "computePreferences": null,
   "dashboards": [],
   "environmentMetadata": {
    "base_environment": "",
    "environment_version": "2"
   },
   "language": "python",
   "notebookMetadata": {
    "pythonIndentUnit": 4
   },
   "notebookName": "SILVER_TotesysDB",
   "widgets": {
    "entityColumns": {
     "currentValue": "[{\"sortOrder\": 1, \"columnName\": \"design_id\", \"dataType\": \"int\"}, {\"sortOrder\": 2, \"columnName\": \"design_name\", \"dataType\": \"string\"}, {\"sortOrder\": 3, \"columnName\": \"file_location\", \"dataType\": \"string\"}, {\"sortOrder\": 4, \"columnName\": \"file_name\", \"dataType\": \"string\"}]",
     "nuid": "64e27337-10d6-4ff1-ad73-11c5eee59eb7",
     "typedWidgetInfo": {
      "autoCreated": false,
      "defaultValue": "",
      "label": null,
      "name": "entityColumns",
      "options": {
       "widgetDisplayType": "Text",
       "validationRegex": null
      },
      "parameterDataType": "String"
     },
     "widgetInfo": {
      "widgetType": "text",
      "defaultValue": "",
      "label": null,
      "name": "entityColumns",
      "options": {
       "widgetType": "text",
       "autoCreated": null,
       "validationRegex": null
      }
     }
    },
    "entityName": {
     "currentValue": "design",
     "nuid": "ce268007-f490-4643-ac59-e91eb16e75d1",
     "typedWidgetInfo": {
      "autoCreated": false,
      "defaultValue": "",
      "label": null,
      "name": "entityName",
      "options": {
       "widgetDisplayType": "Text",
       "validationRegex": null
      },
      "parameterDataType": "String"
     },
     "widgetInfo": {
      "widgetType": "text",
      "defaultValue": "",
      "label": null,
      "name": "entityName",
      "options": {
       "widgetType": "text",
       "autoCreated": null,
       "validationRegex": null
      }
     }
    },
    "sourceSystem": {
     "currentValue": "TotesysDB",
     "nuid": "8812902f-648d-44eb-897c-f6edce76ff30",
     "typedWidgetInfo": {
      "autoCreated": false,
      "defaultValue": "",
      "label": null,
      "name": "sourceSystem",
      "options": {
       "widgetDisplayType": "Text",
       "validationRegex": null
      },
      "parameterDataType": "String"
     },
     "widgetInfo": {
      "widgetType": "text",
      "defaultValue": "",
      "label": null,
      "name": "sourceSystem",
      "options": {
       "widgetType": "text",
       "autoCreated": null,
       "validationRegex": null
      }
     }
    }
   }
  },
  "language_info": {
   "name": "python"
  }
 },
 "nbformat": 4,
 "nbformat_minor": 0
}
