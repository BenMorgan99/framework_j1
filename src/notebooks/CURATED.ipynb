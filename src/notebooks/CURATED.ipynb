{
 "cells": [
  {
   "cell_type": "code",
   "execution_count": 0,
   "metadata": {
    "application/vnd.databricks.v1+cell": {
     "cellMetadata": {
      "byteLimit": 2048000,
      "rowLimit": 10000
     },
     "inputWidgets": {},
     "nuid": "9f7eb52d-930c-4240-8dda-aa39eb12425d",
     "showTitle": true,
     "tableResultSettingsMap": {},
     "title": "Configuration"
    }
   },
   "outputs": [],
   "source": [
    "%run \"./Configuration\""
   ]
  },
  {
   "cell_type": "code",
   "execution_count": 0,
   "metadata": {
    "application/vnd.databricks.v1+cell": {
     "cellMetadata": {
      "byteLimit": 2048000,
      "rowLimit": 10000
     },
     "inputWidgets": {},
     "nuid": "d4282c0b-dee3-4e33-838d-d6d93f966e6c",
     "showTitle": false,
     "tableResultSettingsMap": {},
     "title": ""
    }
   },
   "outputs": [],
   "source": [
    "# Define the metadata widget:\n",
    "dbutils.widgets.text(\"entityName\", \"\")\n",
    "dbutils.widgets.text(\"transformPath\", \"\")\n",
    "dbutils.widgets.text(\"entityColumns\", \"\")\n",
    "\n",
    "# Save the parameter to a variable:\n",
    "entityName =    dbutils.widgets.get('entityName')\n",
    "file_location = dbutils.widgets.get('transformPath')[66:]\n",
    "columns =       dbutils.widgets.get('entityColumns')\n",
    "\n",
    "# Replace uppercase False/True with lowercase:\n",
    "columns = columns.replace('False', 'false').replace('True', 'true')\n",
    "\n",
    "# Determine path to TRANSFORM data:\n",
    "folder_path = datetime.datetime.now().strftime(\"%Y/%m/%d\")\n",
    "parquet_path = TRANSFORM + f\"/AdventureWorks/{entityName}/{folder_path}/\""
   ]
  },
  {
   "cell_type": "code",
   "execution_count": 0,
   "metadata": {
    "application/vnd.databricks.v1+cell": {
     "cellMetadata": {
      "byteLimit": 2048000,
      "rowLimit": 10000
     },
     "inputWidgets": {},
     "nuid": "bd1e5455-31a7-471f-b158-cd4deca089cc",
     "showTitle": true,
     "tableResultSettingsMap": {},
     "title": "DataFrame"
    }
   },
   "outputs": [],
   "source": [
    "# Read data from parquet file\n",
    "df = spark.read.parquet(parquet_path)"
   ]
  },
  {
   "cell_type": "code",
   "execution_count": 0,
   "metadata": {
    "application/vnd.databricks.v1+cell": {
     "cellMetadata": {
      "byteLimit": 2048000,
      "rowLimit": 10000
     },
     "inputWidgets": {},
     "nuid": "7156c66c-f913-4c7c-adf4-29f617a46beb",
     "showTitle": true,
     "tableResultSettingsMap": {},
     "title": "Aggregations"
    }
   },
   "outputs": [],
   "source": []
  },
  {
   "cell_type": "code",
   "execution_count": 0,
   "metadata": {
    "application/vnd.databricks.v1+cell": {
     "cellMetadata": {
      "byteLimit": 2048000,
      "rowLimit": 10000
     },
     "inputWidgets": {},
     "nuid": "3b5c2901-0b11-4bd2-accf-9775698cc9e0",
     "showTitle": true,
     "tableResultSettingsMap": {},
     "title": "Delta Table"
    }
   },
   "outputs": [],
   "source": [
    "# Path to delta:\n",
    "delta_path = CURATE + f\"/AdventureWorks/{entityName}/\"\n",
    "\n",
    "# Write to delta table:\n",
    "df.write.format(\"delta\").mode(\"overwrite\").save(delta_path)\n"
   ]
  }
 ],
 "metadata": {
  "application/vnd.databricks.v1+notebook": {
   "computePreferences": null,
   "dashboards": [],
   "environmentMetadata": {
    "base_environment": "",
    "environment_version": "2"
   },
   "language": "python",
   "notebookMetadata": {
    "pythonIndentUnit": 4
   },
   "notebookName": "CURATED",
   "widgets": {
    "entityColumns": {
     "currentValue": "",
     "nuid": "b0e2c4bc-a7ed-4d4b-8aa3-4cbd75557e5a",
     "typedWidgetInfo": {
      "autoCreated": false,
      "defaultValue": "",
      "label": null,
      "name": "entityColumns",
      "options": {
       "widgetDisplayType": "Text",
       "validationRegex": null
      },
      "parameterDataType": "String"
     },
     "widgetInfo": {
      "widgetType": "text",
      "defaultValue": "",
      "label": null,
      "name": "entityColumns",
      "options": {
       "widgetType": "text",
       "autoCreated": null,
       "validationRegex": null
      }
     }
    },
    "entityName": {
     "currentValue": "customers",
     "nuid": "8aa8987b-4685-49a0-816d-4c30757cea17",
     "typedWidgetInfo": {
      "autoCreated": false,
      "defaultValue": "",
      "label": null,
      "name": "entityName",
      "options": {
       "widgetDisplayType": "Text",
       "validationRegex": null
      },
      "parameterDataType": "String"
     },
     "widgetInfo": {
      "widgetType": "text",
      "defaultValue": "",
      "label": null,
      "name": "entityName",
      "options": {
       "widgetType": "text",
       "autoCreated": null,
       "validationRegex": null
      }
     }
    },
    "transformPath": {
     "currentValue": "",
     "nuid": "d08d9538-5d6d-455f-8b2d-aeb99b0d3370",
     "typedWidgetInfo": {
      "autoCreated": false,
      "defaultValue": "",
      "label": null,
      "name": "transformPath",
      "options": {
       "widgetDisplayType": "Text",
       "validationRegex": null
      },
      "parameterDataType": "String"
     },
     "widgetInfo": {
      "widgetType": "text",
      "defaultValue": "",
      "label": null,
      "name": "transformPath",
      "options": {
       "widgetType": "text",
       "autoCreated": null,
       "validationRegex": null
      }
     }
    }
   }
  },
  "language_info": {
   "name": "python"
  }
 },
 "nbformat": 4,
 "nbformat_minor": 0
}
