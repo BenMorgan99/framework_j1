{
 "cells": [
  {
   "cell_type": "code",
   "execution_count": 0,
   "metadata": {
    "application/vnd.databricks.v1+cell": {
     "cellMetadata": {
      "byteLimit": 2048000,
      "rowLimit": 10000
     },
     "inputWidgets": {},
     "nuid": "5cca7158-fb74-40aa-842d-2b58983e32af",
     "showTitle": true,
     "tableResultSettingsMap": {},
     "title": "Setup"
    }
   },
   "outputs": [],
   "source": [
    "%run \"./Configuration\""
   ]
  },
  {
   "cell_type": "code",
   "execution_count": 0,
   "metadata": {
    "application/vnd.databricks.v1+cell": {
     "cellMetadata": {
      "byteLimit": 2048000,
      "rowLimit": 10000
     },
     "inputWidgets": {},
     "nuid": "daca561c-64a0-412c-aa19-ab73ded860e4",
     "showTitle": true,
     "tableResultSettingsMap": {},
     "title": "Metadata"
    }
   },
   "outputs": [],
   "source": [
    "# Define the metadata widget:\n",
    "dbutils.widgets.text(\"metaData\", \"\")\n",
    "\n",
    "# Save the value as a JSON object:\n",
    "metadata = json.loads(dbutils.widgets.get(\"metaData\"))"
   ]
  },
  {
   "cell_type": "code",
   "execution_count": 0,
   "metadata": {
    "application/vnd.databricks.v1+cell": {
     "cellMetadata": {
      "byteLimit": 2048000,
      "rowLimit": 10000
     },
     "inputWidgets": {},
     "nuid": "38d128c5-b832-4c89-88ee-ca8a42ae3e1f",
     "showTitle": true,
     "tableResultSettingsMap": {},
     "title": "Create DataFrame"
    }
   },
   "outputs": [],
   "source": [
    "if metadata['entityName'] == 'AdventureWorks':\n",
    "    # Define the url to the CSV file:\n",
    "    csv_url = metadata['connectionString']\n",
    "    # Get the CSV file content as a string:\n",
    "    response = requests.get(csv_url)\n",
    "    # Define temp path in DBFS:\n",
    "    temp_path = '/dbfs/tmp/temp_csv.csv'\n",
    "    # Write the string to a csv file in DBFS:\n",
    "    with open(temp_path, 'wb') as f:\n",
    "        f.write(response.content)\n",
    "    \n",
    "    # Create a DataFrame from the CSV file:\n",
    "    df = spark.read.csv('dbfs:/tmp/temp_csv.csv', header=True, inferSchema=True)"
   ]
  },
  {
   "cell_type": "code",
   "execution_count": 0,
   "metadata": {
    "application/vnd.databricks.v1+cell": {
     "cellMetadata": {
      "byteLimit": 2048000,
      "rowLimit": 10000
     },
     "inputWidgets": {},
     "nuid": "393bd8e9-e97f-450f-88f1-c1e621de19ea",
     "showTitle": true,
     "tableResultSettingsMap": {},
     "title": "Define FolderPath"
    }
   },
   "outputs": [],
   "source": [
    "folder_path = datetime.datetime.now().strftime(\"%Y/%m/%d\")"
   ]
  },
  {
   "cell_type": "code",
   "execution_count": 0,
   "metadata": {
    "application/vnd.databricks.v1+cell": {
     "cellMetadata": {
      "byteLimit": 2048000,
      "rowLimit": 10000
     },
     "inputWidgets": {},
     "nuid": "443f039e-ea16-47b0-a77b-37fda36e77fc",
     "showTitle": true,
     "tableResultSettingsMap": {},
     "title": "Write to DataLake"
    }
   },
   "outputs": [],
   "source": [
    "# Check data exists:\n",
    "if df.count() > 0:\n",
    "    # Set location for parquet:\n",
    "    location = RAW + f\"/{metadata['entityName']}/{folder_path}/\"\n",
    "\n",
    "    # Write parquet to data lake:\n",
    "    df.write.mode('overwrite').format('parquet').option('header', 'true').save(location)"
   ]
  }
 ],
 "metadata": {
  "application/vnd.databricks.v1+notebook": {
   "computePreferences": null,
   "dashboards": [],
   "environmentMetadata": {
    "base_environment": "",
    "client": "2"
   },
   "language": "python",
   "notebookMetadata": {
    "pythonIndentUnit": 4
   },
   "notebookName": "RAW",
   "widgets": {
    "metaData": {
     "currentValue": "{\"entityID\":1,\"entityName\":\"AdventureWorks\",\"entityDescription\":\"AdventureWorks is a practice data source.\",\"connectionSourceType\":\"HTTP\",\"connectionRequestType\":\"GET\",\"connectionString\":\"https://raw.githubusercontent.com/MicrosoftLearning/dp-203-azure-data-engineer/master/Allfiles/labs/01/adventureworks/products.csv\",\"fileName\":\"products.csv\",\"fileFormat\":\"CSV\",\"delimiterColumn\":\",\",\"delimiterRow\":\"\\n\"}",
     "nuid": "c5476572-7067-4a4c-9bc0-9b268ded245b",
     "typedWidgetInfo": {
      "autoCreated": false,
      "defaultValue": "",
      "label": null,
      "name": "metaData",
      "options": {
       "widgetDisplayType": "Text",
       "validationRegex": null
      },
      "parameterDataType": "String"
     },
     "widgetInfo": {
      "widgetType": "text",
      "defaultValue": "",
      "label": null,
      "name": "metaData",
      "options": {
       "widgetType": "text",
       "autoCreated": null,
       "validationRegex": null
      }
     }
    }
   }
  },
  "language_info": {
   "name": "python"
  }
 },
 "nbformat": 4,
 "nbformat_minor": 0
}
