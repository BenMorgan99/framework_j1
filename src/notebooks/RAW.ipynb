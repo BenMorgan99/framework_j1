{
 "cells": [
  {
   "cell_type": "code",
   "execution_count": 0,
   "metadata": {
    "application/vnd.databricks.v1+cell": {
     "cellMetadata": {
      "byteLimit": 2048000,
      "rowLimit": 10000
     },
     "inputWidgets": {},
     "nuid": "5cca7158-fb74-40aa-842d-2b58983e32af",
     "showTitle": true,
     "tableResultSettingsMap": {},
     "title": "Setup"
    }
   },
   "outputs": [],
   "source": [
    "%run \"./Configuration\""
   ]
  },
  {
   "cell_type": "code",
   "execution_count": 0,
   "metadata": {
    "application/vnd.databricks.v1+cell": {
     "cellMetadata": {
      "byteLimit": 2048000,
      "rowLimit": 10000
     },
     "inputWidgets": {},
     "nuid": "daca561c-64a0-412c-aa19-ab73ded860e4",
     "showTitle": true,
     "tableResultSettingsMap": {},
     "title": "Metadata"
    }
   },
   "outputs": [],
   "source": [
    "# Define the metadata widget:\n",
    "dbutils.widgets.text(\"entityName\", \"\")\n",
    "dbutils.widgets.text(\"entitySourceQuery\", \"\")\n",
    "\n",
    "# Save the parameter to a variable:\n",
    "entityName = dbutils.widgets.get('entityName')\n",
    "url = dbutils.widgets.get('entitySourceQuery')"
   ]
  },
  {
   "cell_type": "code",
   "execution_count": 0,
   "metadata": {
    "application/vnd.databricks.v1+cell": {
     "cellMetadata": {
      "byteLimit": 2048000,
      "rowLimit": 10000
     },
     "inputWidgets": {},
     "nuid": "38d128c5-b832-4c89-88ee-ca8a42ae3e1f",
     "showTitle": true,
     "tableResultSettingsMap": {},
     "title": "AdventureWorks DataFrame"
    }
   },
   "outputs": [],
   "source": [
    "if entityName in ['customers', 'products']:\n",
    "    # Get the CSV file content as a string:\n",
    "    response = requests.get(url)\n",
    "    \n",
    "    # Define temp path in DBFS:\n",
    "    temp_path = f'/dbfs/tmp/{entityName}.csv'\n",
    "    \n",
    "    # Write the string to a csv file in DBFS:\n",
    "    with open(temp_path, 'wb') as f:\n",
    "        f.write(response.content)\n",
    "    \n",
    "    # Create a DataFrame from the CSV file:\n",
    "    df = spark.read.csv(f'dbfs:/tmp/{entityName}.csv', header=True, inferSchema=True)"
   ]
  },
  {
   "cell_type": "code",
   "execution_count": 0,
   "metadata": {
    "application/vnd.databricks.v1+cell": {
     "cellMetadata": {
      "byteLimit": 2048000,
      "rowLimit": 10000
     },
     "inputWidgets": {},
     "nuid": "393bd8e9-e97f-450f-88f1-c1e621de19ea",
     "showTitle": true,
     "tableResultSettingsMap": {},
     "title": "Define FolderPath"
    }
   },
   "outputs": [],
   "source": [
    "# Set folder path to todays date:\n",
    "folder_path = datetime.datetime.now().strftime(\"%Y/%m/%d\")"
   ]
  },
  {
   "cell_type": "code",
   "execution_count": 0,
   "metadata": {
    "application/vnd.databricks.v1+cell": {
     "cellMetadata": {
      "byteLimit": 2048000,
      "rowLimit": 10000
     },
     "inputWidgets": {},
     "nuid": "443f039e-ea16-47b0-a77b-37fda36e77fc",
     "showTitle": true,
     "tableResultSettingsMap": {},
     "title": "Write to DataLake"
    }
   },
   "outputs": [],
   "source": [
    "# Check data exists:\n",
    "if df.count() > 0:\n",
    "    # Set location for parquet:\n",
    "    location = RAW + f\"/AdventureWorks/{entityName}/{folder_path}/\"\n",
    "    \n",
    "    # Write parquet to data lake:\n",
    "    df.write.mode('overwrite').format('parquet').option('header', 'true').save(location)"
   ]
  },
  {
   "cell_type": "code",
   "execution_count": 0,
   "metadata": {
    "application/vnd.databricks.v1+cell": {
     "cellMetadata": {},
     "inputWidgets": {},
     "nuid": "e49e0bd8-088d-41dd-a87e-2e294b520068",
     "showTitle": true,
     "tableResultSettingsMap": {},
     "title": "Exit"
    }
   },
   "outputs": [],
   "source": [
    "# Output location of parquet as a parameter\n",
    "dbutils.notebook.exit(file_path)"
   ]
  }
 ],
 "metadata": {
  "application/vnd.databricks.v1+notebook": {
   "computePreferences": null,
   "dashboards": [],
   "environmentMetadata": {
    "base_environment": "",
    "environment_version": "2"
   },
   "language": "python",
   "notebookMetadata": {
    "pythonIndentUnit": 4
   },
   "notebookName": "RAW",
   "widgets": {
    "entityName": {
     "currentValue": "customers",
     "nuid": "9371d306-0354-4ceb-8bd5-3a7eac2a59ba",
     "typedWidgetInfo": {
      "autoCreated": false,
      "defaultValue": "",
      "label": null,
      "name": "entityName",
      "options": {
       "widgetDisplayType": "Text",
       "validationRegex": null
      },
      "parameterDataType": "String"
     },
     "widgetInfo": {
      "widgetType": "text",
      "defaultValue": "",
      "label": null,
      "name": "entityName",
      "options": {
       "widgetType": "text",
       "autoCreated": null,
       "validationRegex": null
      }
     }
    },
    "entitySourceQuery": {
     "currentValue": "https://raw.githubusercontent.com/MicrosoftLearning/dp-203-azure-data-engineer/refs/heads/master/Allfiles/labs/03/data/2020.csv",
     "nuid": "99da2d03-4489-4167-ab4e-4debc5a13309",
     "typedWidgetInfo": {
      "autoCreated": false,
      "defaultValue": "",
      "label": null,
      "name": "entitySourceQuery",
      "options": {
       "widgetDisplayType": "Text",
       "validationRegex": null
      },
      "parameterDataType": "String"
     },
     "widgetInfo": {
      "widgetType": "text",
      "defaultValue": "",
      "label": null,
      "name": "entitySourceQuery",
      "options": {
       "widgetType": "text",
       "autoCreated": null,
       "validationRegex": null
      }
     }
    }
   }
  },
  "language_info": {
   "name": "python"
  }
 },
 "nbformat": 4,
 "nbformat_minor": 0
}
