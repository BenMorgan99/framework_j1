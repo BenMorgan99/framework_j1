{
 "cells": [
  {
   "cell_type": "code",
   "execution_count": 0,
   "metadata": {
    "application/vnd.databricks.v1+cell": {
     "cellMetadata": {
      "byteLimit": 2048000,
      "rowLimit": 10000
     },
     "inputWidgets": {},
     "nuid": "744f77b0-8dd5-494e-9e03-1619e21bed90",
     "showTitle": true,
     "tableResultSettingsMap": {},
     "title": "Configuration"
    }
   },
   "outputs": [],
   "source": [
    "%run \"./Configuration\""
   ]
  },
  {
   "cell_type": "code",
   "execution_count": 0,
   "metadata": {
    "application/vnd.databricks.v1+cell": {
     "cellMetadata": {
      "byteLimit": 2048000,
      "rowLimit": 10000
     },
     "inputWidgets": {},
     "nuid": "9bb7a1ee-fd98-4316-b512-0a39c15fd0d3",
     "showTitle": true,
     "tableResultSettingsMap": {},
     "title": "entityNames"
    }
   },
   "outputs": [],
   "source": [
    "# Define query to extract entityNames from sourceSystem table:\n",
    "query = f\"\"\"\n",
    "  SELECT entityNames\n",
    "  FROM   sourceSystem\n",
    "  WHERE  sourceEntityName = 'TotesysDB'\n",
    "  \"\"\"\n",
    "\n",
    "# Call query_entityNames function and load json:\n",
    "entity_names = json.loads(query_entityNames(query))"
   ]
  },
  {
   "cell_type": "code",
   "execution_count": 0,
   "metadata": {
    "application/vnd.databricks.v1+cell": {
     "cellMetadata": {
      "byteLimit": 2048000,
      "rowLimit": 10000
     },
     "inputWidgets": {},
     "nuid": "224c262c-96a3-4b4c-bd79-f9ade23a196c",
     "showTitle": true,
     "tableResultSettingsMap": {},
     "title": "DataFrames"
    }
   },
   "outputs": [],
   "source": [
    "# For each entity, create a dataFrame:\n",
    "for entity in entity_names:\n",
    "   # Read from SILVER path in metadata database:\n",
    "   globals()[f\"df_{entity}\"] = spark.read.format('delta').load(SILVER + entity_silver(entity))"
   ]
  },
  {
   "cell_type": "code",
   "execution_count": 0,
   "metadata": {
    "application/vnd.databricks.v1+cell": {
     "cellMetadata": {
      "byteLimit": 2048000,
      "rowLimit": 10000
     },
     "inputWidgets": {},
     "nuid": "c1945210-84a5-4fc1-aa33-749ce8768a64",
     "showTitle": true,
     "tableResultSettingsMap": {},
     "title": "TempViews"
    }
   },
   "outputs": [],
   "source": [
    "# Iterate through entities to create temp views:\n",
    "for entity in entity_names:\n",
    "    # Create or replace tempView with nomenclature tv_design, tv_counterparty etc:\n",
    "    globals()[f'df_{entity}'].createOrReplaceTempView(f\"tv_{entity}\")"
   ]
  },
  {
   "cell_type": "code",
   "execution_count": 0,
   "metadata": {
    "application/vnd.databricks.v1+cell": {
     "cellMetadata": {
      "byteLimit": 2048000,
      "implicitDf": true,
      "rowLimit": 10000
     },
     "inputWidgets": {},
     "nuid": "1e05c216-460c-4c43-b42e-2aa5fb6856f5",
     "showTitle": true,
     "tableResultSettingsMap": {},
     "title": "Total Sold"
    }
   },
   "outputs": [],
   "source": [
    "%sql\n",
    "SELECT d.design_name, SUM(so.units_sold) AS total_sold\n",
    ", MAX(so.unit_price) AS max_price_sold\n",
    ", MIN(so.unit_price) AS min_price_sold\n",
    ", CAST(AVG(so.unit_price) AS numeric(10,2)) AS average_price_sold\n",
    ", CAST(SUM(so.unit_price) AS numeric(10,2)) AS total_gross_revenue\n",
    "FROM tv_sales_order so\n",
    "JOIN tv_design d ON so.design_id = d.design_id\n",
    "GROUP BY d.design_name\n",
    "ORDER BY total_gross_revenue DESC;\n"
   ]
  },
  {
   "cell_type": "code",
   "execution_count": 0,
   "metadata": {
    "application/vnd.databricks.v1+cell": {
     "cellMetadata": {
      "byteLimit": 2048000,
      "implicitDf": true,
      "rowLimit": 10000
     },
     "inputWidgets": {},
     "nuid": "9f4f1738-877f-4ea9-80fa-821aab784ad3",
     "showTitle": true,
     "tableResultSettingsMap": {},
     "title": "Best Cities for Orders"
    }
   },
   "outputs": [
    {
     "output_type": "display_data",
     "data": {
      "text/plain": [
       "Databricks visualization. Run in Databricks to view."
      ]
     },
     "metadata": {
      "application/vnd.databricks.v1.subcommand+json": {
       "baseErrorDetails": null,
       "bindings": {},
       "collapsed": false,
       "command": "%sql WITH q AS (SELECT l.city, COUNT(*) as number_of_orders\nFROM tv_sales_order so\nJOIN tv_location l ON so.agreed_delivery_location_id = l.location_id\nGROUP BY l.city\nORDER BY COUNT(*) DESC\nLIMIT 10) SELECT `city`,SUM(`number_of_orders`) `column_664021b023` FROM q GROUP BY `city`",
       "commandTitle": "Visualization 1",
       "commandType": "auto",
       "commandVersion": 0,
       "commentThread": [],
       "commentsVisible": false,
       "contentSha256Hex": null,
       "customPlotOptions": {
        "redashChart": [
         {
          "key": "type",
          "value": "CHART"
         },
         {
          "key": "options",
          "value": {
           "alignYAxesAtZero": true,
           "coefficient": 1,
           "columnConfigurationMap": {
            "x": {
             "column": "city",
             "id": "column_664021b022"
            },
            "y": [
             {
              "column": "number_of_orders",
              "id": "column_664021b023",
              "transform": "SUM"
             }
            ]
           },
           "dateTimeFormat": "DD/MM/YYYY HH:mm",
           "direction": {
            "type": "counterclockwise"
           },
           "error_y": {
            "type": "data",
            "visible": true
           },
           "globalSeriesType": "line",
           "legend": {
            "traceorder": "normal"
           },
           "missingValuesAsZero": true,
           "numberFormat": "0,0.[00000]",
           "percentFormat": "0[.]00%",
           "series": {
            "error_y": {
             "type": "data",
             "visible": true
            },
            "stacking": null
           },
           "seriesOptions": {
            "column_664021b023": {
             "name": "number_of_orders",
             "type": "line",
             "yAxis": 0
            }
           },
           "showDataLabels": false,
           "sizemode": "diameter",
           "sortX": true,
           "sortY": true,
           "swappedAxes": false,
           "textFormat": "",
           "useAggregationsUi": true,
           "valuesOptions": {},
           "version": 2,
           "xAxis": {
            "labels": {
             "enabled": true
            },
            "type": "-"
           },
           "yAxis": [
            {
             "type": "-"
            },
            {
             "opposite": true,
             "type": "-"
            }
           ]
          }
         }
        ]
       },
       "datasetPreviewNameToCmdIdMap": {},
       "diffDeletes": [],
       "diffInserts": [],
       "displayType": "redashChart",
       "error": null,
       "errorDetails": null,
       "errorSummary": null,
       "errorTraceType": null,
       "finishTime": 0,
       "globalVars": {},
       "guid": "",
       "height": "auto",
       "hideCommandCode": false,
       "hideCommandResult": false,
       "iPythonMetadata": null,
       "inputWidgets": {},
       "isLockedInExamMode": false,
       "latestUser": "a user",
       "latestUserId": null,
       "listResultMetadata": null,
       "metadata": {
        "byteLimit": 2048000,
        "implicitDf": true,
        "rowLimit": 10000
       },
       "nuid": "1edf54de-e4c8-4459-b409-2ffe47336c2d",
       "origId": 0,
       "parentHierarchy": [],
       "pivotAggregation": null,
       "pivotColumns": null,
       "position": 7.0,
       "resultDbfsErrorMessage": null,
       "resultDbfsStatus": "INLINED_IN_TREE",
       "results": null,
       "showCommandTitle": false,
       "startTime": 0,
       "state": "input",
       "streamStates": {},
       "subcommandOptions": {
        "queryPlan": {
         "groups": [
          {
           "column": "city",
           "type": "column"
          }
         ],
         "selects": [
          {
           "column": "city",
           "type": "column"
          },
          {
           "alias": "column_664021b023",
           "args": [
            {
             "column": "number_of_orders",
             "type": "column"
            }
           ],
           "function": "SUM",
           "type": "function"
          }
         ]
        }
       },
       "submitTime": 0,
       "subtype": "tableResultSubCmd.visualization",
       "tableResultIndex": 0,
       "tableResultSettingsMap": {},
       "useConsistentColors": false,
       "version": "CommandV1",
       "width": "auto",
       "workflows": null,
       "xColumns": null,
       "yColumns": null
      }
     },
     "output_type": "display_data"
    }
   ],
   "source": [
    "%sql\n",
    "SELECT l.city, COUNT(*) as number_of_orders\n",
    "FROM tv_sales_order so\n",
    "JOIN tv_location l ON so.agreed_delivery_location_id = l.location_id\n",
    "GROUP BY l.city\n",
    "ORDER BY COUNT(*) DESC\n",
    "LIMIT 10;"
   ]
  },
  {
   "cell_type": "code",
   "execution_count": 0,
   "metadata": {
    "application/vnd.databricks.v1+cell": {
     "cellMetadata": {
      "byteLimit": 2048000,
      "implicitDf": true,
      "rowLimit": 10000
     },
     "inputWidgets": {},
     "nuid": "e083f926-6fda-458e-b383-da9ef5f410e8",
     "showTitle": true,
     "tableResultSettingsMap": {},
     "title": "Worst Cities for Orders"
    }
   },
   "outputs": [],
   "source": [
    "%sql\n",
    "SELECT l.city, COUNT(*) as number_of_orders\n",
    "FROM tv_sales_order so\n",
    "JOIN tv_location l ON so.agreed_delivery_location_id = l.location_id\n",
    "GROUP BY l.city\n",
    "ORDER BY COUNT(*) ASC\n",
    "LIMIT 10;"
   ]
  }
 ],
 "metadata": {
  "application/vnd.databricks.v1+notebook": {
   "computePreferences": null,
   "dashboards": [],
   "environmentMetadata": {
    "base_environment": "",
    "environment_version": "2"
   },
   "language": "python",
   "notebookMetadata": {
    "mostRecentlyExecutedCommandWithImplicitDF": {
     "commandId": 6774809363886819,
     "dataframes": [
      "_sqldf"
     ]
    },
    "pythonIndentUnit": 4
   },
   "notebookName": "GOLD_TotesysDB",
   "widgets": {}
  },
  "language_info": {
   "name": "python"
  }
 },
 "nbformat": 4,
 "nbformat_minor": 0
}
