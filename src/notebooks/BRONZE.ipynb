{
 "cells": [
  {
   "cell_type": "code",
   "execution_count": 0,
   "metadata": {
    "application/vnd.databricks.v1+cell": {
     "cellMetadata": {
      "byteLimit": 2048000,
      "rowLimit": 10000
     },
     "inputWidgets": {},
     "nuid": "efc74b97-5d97-4604-9960-b9cb285f4f13",
     "showTitle": false,
     "tableResultSettingsMap": {},
     "title": ""
    }
   },
   "outputs": [],
   "source": [
    "%run \"./Configuration\""
   ]
  },
  {
   "cell_type": "code",
   "execution_count": 0,
   "metadata": {
    "application/vnd.databricks.v1+cell": {
     "cellMetadata": {
      "byteLimit": 2048000,
      "rowLimit": 10000
     },
     "inputWidgets": {},
     "nuid": "82d6f800-9d0c-4797-94a4-e9c8eb4eefe5",
     "showTitle": true,
     "tableResultSettingsMap": {},
     "title": "Variables"
    }
   },
   "outputs": [],
   "source": [
    "# Define the metadata widget:\n",
    "dbutils.widgets.text(\"entityName\", \"\")\n",
    "dbutils.widgets.text(\"entitySourceQuery\", \"\")\n",
    "dbutils.widgets.text(\"entityColumns\", \"\")\n",
    "dbutils.widgets.text(\"sourceSystem\", \"\")\n",
    "\n",
    "# Save the parameter to a variable:\n",
    "entityName = dbutils.widgets.get('entityName')\n",
    "connection = json.loads(dbutils.widgets.get('entitySourceQuery'))\n",
    "sourceSystemName = dbutils.widgets.get('sourceSystem')\n",
    "\n",
    "# Define query:\n",
    "query = connection['sourceQuery']"
   ]
  },
  {
   "cell_type": "code",
   "execution_count": 0,
   "metadata": {
    "application/vnd.databricks.v1+cell": {
     "cellMetadata": {
      "byteLimit": 2048000,
      "rowLimit": 10000
     },
     "inputWidgets": {},
     "nuid": "5a292ee0-0ff0-4eb7-882f-98bb931f7e8f",
     "showTitle": true,
     "tableResultSettingsMap": {},
     "title": "DataFrame"
    }
   },
   "outputs": [],
   "source": [
    "# Check source system:\n",
    "if sourceSystemName == 'TotesysDB':\n",
    "  \n",
    "  # If entity is date, do not ingest:\n",
    "  if entityName == 'date':\n",
    "    dbutils.notebook.exit('None')\n",
    "  \n",
    "  else:\n",
    "    # Create DataFrame from SQL Server:\n",
    "    df = (spark.read\n",
    "      .format(\"sqlserver\")\n",
    "      .option(\"host\", \"framework-j1-sv.database.windows.net\")\n",
    "      .option(\"port\", \"1433\")\n",
    "      .option(\"user\", \"adminsjp\")\n",
    "      .option(\"password\", db_password)\n",
    "      .option(\"database\", \"totesys\")\n",
    "      .option(\"query\", query)\n",
    "      .load()\n",
    "    )"
   ]
  },
  {
   "cell_type": "code",
   "execution_count": 0,
   "metadata": {
    "application/vnd.databricks.v1+cell": {
     "cellMetadata": {
      "byteLimit": 2048000,
      "rowLimit": 10000
     },
     "inputWidgets": {},
     "nuid": "85b42151-1412-46bf-b9ec-43378af4db35",
     "showTitle": true,
     "tableResultSettingsMap": {},
     "title": "Write"
    }
   },
   "outputs": [],
   "source": [
    "# Set folder path to todays date:\n",
    "folder_path = datetime.datetime.now().strftime(\"%Y/%m/%d\")\n",
    "\n",
    "# Check data exists:\n",
    "if df.count() > 0:\n",
    "    # Set location for parquet:\n",
    "    location = BRONZE + f\"/{sourceSystemName}/{entityName}/{folder_path}/\"\n",
    "    \n",
    "    # Write parquet to data lake:\n",
    "    df.write.mode('overwrite').format('parquet').option('header', 'true').save(location)\n"
   ]
  },
  {
   "cell_type": "code",
   "execution_count": 0,
   "metadata": {
    "application/vnd.databricks.v1+cell": {
     "cellMetadata": {},
     "inputWidgets": {},
     "nuid": "10289003-462e-45bd-8527-da73a39666ad",
     "showTitle": false,
     "tableResultSettingsMap": {},
     "title": ""
    }
   },
   "outputs": [],
   "source": [
    "dbutils.notebook.exit(location)"
   ]
  }
 ],
 "metadata": {
  "application/vnd.databricks.v1+notebook": {
   "computePreferences": null,
   "dashboards": [],
   "environmentMetadata": {
    "base_environment": "",
    "environment_version": "2"
   },
   "language": "python",
   "notebookMetadata": {
    "mostRecentlyExecutedCommandWithImplicitDF": {
     "commandId": -1,
     "dataframes": [
      "_sqldf"
     ]
    },
    "pythonIndentUnit": 4
   },
   "notebookName": "BRONZE",
   "widgets": {
    "entityColumns": {
     "currentValue": "[{\"sortOrder\": 1, \"columnName\": \"currency_id\", \"dataType\": \"int\"}, {\"sortOrder\": 2, \"columnName\": \"currency_code\", \"dataType\": \"string\"}, {\"sortOrder\": 3, \"columnName\": \"currency_name\", \"dataType\": \"string\"}]",
     "nuid": "d3b52a4e-3181-4024-a50a-eb77f4f0c3ef",
     "typedWidgetInfo": {
      "autoCreated": false,
      "defaultValue": "",
      "label": null,
      "name": "entityColumns",
      "options": {
       "widgetDisplayType": "Text",
       "validationRegex": null
      },
      "parameterDataType": "String"
     },
     "widgetInfo": {
      "widgetType": "text",
      "defaultValue": "",
      "label": null,
      "name": "entityColumns",
      "options": {
       "widgetType": "text",
       "autoCreated": null,
       "validationRegex": null
      }
     }
    },
    "entityName": {
     "currentValue": "currency",
     "nuid": "73e25987-e884-4684-b70d-df3248a92137",
     "typedWidgetInfo": {
      "autoCreated": false,
      "defaultValue": "",
      "label": null,
      "name": "entityName",
      "options": {
       "widgetDisplayType": "Text",
       "validationRegex": null
      },
      "parameterDataType": "String"
     },
     "widgetInfo": {
      "widgetType": "text",
      "defaultValue": "",
      "label": null,
      "name": "entityName",
      "options": {
       "widgetType": "text",
       "autoCreated": null,
       "validationRegex": null
      }
     }
    },
    "entitySourceQuery": {
     "currentValue": "{\"connectionString\": \"connectionStringTotesys\", \"sourceQuery\": \"SELECT * FROM currency\"}",
     "nuid": "410b8504-cbf3-4ad3-ae71-8d2bc762f3dc",
     "typedWidgetInfo": {
      "autoCreated": false,
      "defaultValue": "",
      "label": null,
      "name": "entitySourceQuery",
      "options": {
       "widgetDisplayType": "Text",
       "validationRegex": null
      },
      "parameterDataType": "String"
     },
     "widgetInfo": {
      "widgetType": "text",
      "defaultValue": "",
      "label": null,
      "name": "entitySourceQuery",
      "options": {
       "widgetType": "text",
       "autoCreated": null,
       "validationRegex": null
      }
     }
    },
    "sourceSystem": {
     "currentValue": "TotesysDB",
     "nuid": "aed9994e-94d5-4e89-b800-96aa35276063",
     "typedWidgetInfo": {
      "autoCreated": false,
      "defaultValue": "",
      "label": null,
      "name": "sourceSystem",
      "options": {
       "widgetDisplayType": "Text",
       "validationRegex": null
      },
      "parameterDataType": "String"
     },
     "widgetInfo": {
      "widgetType": "text",
      "defaultValue": "",
      "label": null,
      "name": "sourceSystem",
      "options": {
       "widgetType": "text",
       "autoCreated": null,
       "validationRegex": null
      }
     }
    }
   }
  },
  "language_info": {
   "name": "python"
  }
 },
 "nbformat": 4,
 "nbformat_minor": 0
}
