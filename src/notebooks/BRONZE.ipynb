{
 "cells": [
  {
   "cell_type": "code",
   "execution_count": 0,
   "metadata": {
    "application/vnd.databricks.v1+cell": {
     "cellMetadata": {
      "byteLimit": 2048000,
      "rowLimit": 10000
     },
     "inputWidgets": {},
     "nuid": "efc74b97-5d97-4604-9960-b9cb285f4f13",
     "showTitle": false,
     "tableResultSettingsMap": {},
     "title": ""
    }
   },
   "outputs": [],
   "source": [
    "%run \"./Configuration\""
   ]
  },
  {
   "cell_type": "code",
   "execution_count": 0,
   "metadata": {
    "application/vnd.databricks.v1+cell": {
     "cellMetadata": {
      "byteLimit": 2048000,
      "rowLimit": 10000
     },
     "inputWidgets": {},
     "nuid": "82d6f800-9d0c-4797-94a4-e9c8eb4eefe5",
     "showTitle": true,
     "tableResultSettingsMap": {},
     "title": "Variables"
    }
   },
   "outputs": [],
   "source": [
    "# Define the metadata widget:\n",
    "dbutils.widgets.text(\"entityName\", \"\")\n",
    "dbutils.widgets.text(\"entitySourceQuery\", \"\")\n",
    "dbutils.widgets.text(\"entityColumns\", \"\")\n",
    "dbutils.widgets.text(\"sourceSystem\", \"\")\n",
    "\n",
    "# Save the parameter to a variable:\n",
    "entityName = dbutils.widgets.get('entityName')\n",
    "connection = json.loads(dbutils.widgets.get('entitySourceQuery'))\n",
    "sourceSystemName = dbutils.widgets.get('sourceSystem')\n",
    "\n",
    "# Determine password:\n",
    "if connection['connectionString'] != 'None':\n",
    "    db_password = dbutils.secrets.get(scope=secret_scope, key=connection['connectionString'])\n",
    "    \n"
   ]
  },
  {
   "cell_type": "code",
   "execution_count": 0,
   "metadata": {
    "application/vnd.databricks.v1+cell": {
     "cellMetadata": {
      "byteLimit": 2048000,
      "rowLimit": 10000
     },
     "inputWidgets": {},
     "nuid": "5a292ee0-0ff0-4eb7-882f-98bb931f7e8f",
     "showTitle": true,
     "tableResultSettingsMap": {},
     "title": "DataFrame"
    }
   },
   "outputs": [],
   "source": [
    "# Check source system:\n",
    "if sourceSystemName == 'TotesysDB':\n",
    "  # Create DataFrame from SQL Server:\n",
    "  df = (spark.read\n",
    "    .format(\"sqlserver\")\n",
    "    .option(\"host\", \"framework-j1-sv.database.windows.net\")\n",
    "    .option(\"port\", \"1433\")\n",
    "    .option(\"user\", \"adminsjp\")\n",
    "    .option(\"password\", db_password)\n",
    "    .option(\"database\", \"totesys\")\n",
    "    .option(\"dbtable\", entityName)\n",
    "    .load()\n",
    "  )"
   ]
  },
  {
   "cell_type": "code",
   "execution_count": 0,
   "metadata": {
    "application/vnd.databricks.v1+cell": {
     "cellMetadata": {
      "byteLimit": 2048000,
      "rowLimit": 10000
     },
     "inputWidgets": {},
     "nuid": "85b42151-1412-46bf-b9ec-43378af4db35",
     "showTitle": true,
     "tableResultSettingsMap": {},
     "title": "Write"
    }
   },
   "outputs": [],
   "source": [
    "# Set folder path to todays date:\n",
    "folder_path = datetime.datetime.now().strftime(\"%Y/%m/%d\")\n",
    "\n",
    "# Check data exists:\n",
    "if df.count() > 0:\n",
    "    # Set location for parquet:\n",
    "    location = BRONZE + f\"/{sourceSystemName}/{entityName}/{folder_path}/\"\n",
    "    \n",
    "    # Write parquet to data lake:\n",
    "    df.write.mode('overwrite').format('parquet').option('header', 'true').save(location)\n"
   ]
  }
 ],
 "metadata": {
  "application/vnd.databricks.v1+notebook": {
   "computePreferences": null,
   "dashboards": [],
   "environmentMetadata": {
    "base_environment": "",
    "environment_version": "2"
   },
   "language": "python",
   "notebookMetadata": {
    "mostRecentlyExecutedCommandWithImplicitDF": {
     "commandId": -1,
     "dataframes": [
      "_sqldf"
     ]
    },
    "pythonIndentUnit": 4
   },
   "notebookName": "BRONZE",
   "widgets": {
    "entityColumns": {
     "currentValue": "[{\"sortOrder\": 1, \"columnName\": \"sales_record_id\", \"dataType\": \"int\"}, {\"sortOrder\": 2, \"columnName\": \"sales_order_id\", \"dataType\": \"int\"}, {\"sortOrder\": 3, \"columnName\": \"created_date\", \"dataType\": \"date\"}, {\"sortOrder\": 4, \"columnName\": \"created_time\", \"dataType\": \"time\"}, {\"sortOrder\": 5, \"columnName\": \"last_updated_date\", \"dataType\": \"date\"}, {\"sortOrder\": 6, \"columnName\": \"last_updated_time\", \"dataType\": \"time\"}, {\"sortOrder\": 7, \"columnName\": \"sales_staff_id\", \"dataType\": \"int\"}, {\"sortOrder\": 8, \"columnName\": \"counterparty_id\", \"dataType\": \"int\"}, {\"sortOrder\": 9, \"columnName\": \"units_sold\", \"dataType\": \"int\"}, {\"sortOrder\": 10, \"columnName\": \"unit_price\", \"dataType\": \"numeric\"}, {\"sortOrder\": 11, \"columnName\": \"currency_id\", \"dataType\": \"int\"}, {\"sortOrder\": 12, \"columnName\": \"design_id\", \"dataType\": \"int\"}, {\"sortOrder\": 13, \"columnName\": \"agreed_payment_date\", \"dataType\": \"date\"}, {\"sortOrder\": 14, \"columnName\": \"agreed_delivery_date\", \"dataType\": \"date\"}, {\"sortOrder\": 15, \"columnName\": \"agreed_delivery_location_id\", \"dataType\": \"int\"}]",
     "nuid": "d3b52a4e-3181-4024-a50a-eb77f4f0c3ef",
     "typedWidgetInfo": {
      "autoCreated": false,
      "defaultValue": "",
      "label": null,
      "name": "entityColumns",
      "options": {
       "widgetDisplayType": "Text",
       "validationRegex": null
      },
      "parameterDataType": "String"
     },
     "widgetInfo": {
      "widgetType": "text",
      "defaultValue": "",
      "label": null,
      "name": "entityColumns",
      "options": {
       "widgetType": "text",
       "autoCreated": null,
       "validationRegex": null
      }
     }
    },
    "entityName": {
     "currentValue": "sales_order",
     "nuid": "73e25987-e884-4684-b70d-df3248a92137",
     "typedWidgetInfo": {
      "autoCreated": false,
      "defaultValue": "",
      "label": null,
      "name": "entityName",
      "options": {
       "widgetDisplayType": "Text",
       "validationRegex": null
      },
      "parameterDataType": "String"
     },
     "widgetInfo": {
      "widgetType": "text",
      "defaultValue": "",
      "label": null,
      "name": "entityName",
      "options": {
       "widgetType": "text",
       "autoCreated": null,
       "validationRegex": null
      }
     }
    },
    "entitySourceQuery": {
     "currentValue": "{\"connectionString\": \"connectionStringTotesys\", \"sourceQuery\": \"SELECT * FROM sales_order\"}",
     "nuid": "410b8504-cbf3-4ad3-ae71-8d2bc762f3dc",
     "typedWidgetInfo": {
      "autoCreated": false,
      "defaultValue": "",
      "label": null,
      "name": "entitySourceQuery",
      "options": {
       "widgetDisplayType": "Text",
       "validationRegex": null
      },
      "parameterDataType": "String"
     },
     "widgetInfo": {
      "widgetType": "text",
      "defaultValue": "",
      "label": null,
      "name": "entitySourceQuery",
      "options": {
       "widgetType": "text",
       "autoCreated": null,
       "validationRegex": null
      }
     }
    },
    "sourceSystem": {
     "currentValue": "TotesysDB",
     "nuid": "aed9994e-94d5-4e89-b800-96aa35276063",
     "typedWidgetInfo": {
      "autoCreated": false,
      "defaultValue": "",
      "label": null,
      "name": "sourceSystem",
      "options": {
       "widgetDisplayType": "Text",
       "validationRegex": null
      },
      "parameterDataType": "String"
     },
     "widgetInfo": {
      "widgetType": "text",
      "defaultValue": "",
      "label": null,
      "name": "sourceSystem",
      "options": {
       "widgetType": "text",
       "autoCreated": null,
       "validationRegex": null
      }
     }
    }
   }
  },
  "language_info": {
   "name": "python"
  }
 },
 "nbformat": 4,
 "nbformat_minor": 0
}
