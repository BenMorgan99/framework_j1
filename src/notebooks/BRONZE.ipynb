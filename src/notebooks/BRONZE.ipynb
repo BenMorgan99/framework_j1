{
 "cells": [
  {
   "cell_type": "code",
   "execution_count": 0,
   "metadata": {
    "application/vnd.databricks.v1+cell": {
     "cellMetadata": {
      "byteLimit": 2048000,
      "rowLimit": 10000
     },
     "inputWidgets": {},
     "nuid": "efc74b97-5d97-4604-9960-b9cb285f4f13",
     "showTitle": false,
     "tableResultSettingsMap": {},
     "title": ""
    }
   },
   "outputs": [],
   "source": [
    "%run \"./Configuration\""
   ]
  },
  {
   "cell_type": "code",
   "execution_count": 0,
   "metadata": {
    "application/vnd.databricks.v1+cell": {
     "cellMetadata": {
      "byteLimit": 2048000,
      "rowLimit": 10000
     },
     "inputWidgets": {},
     "nuid": "82d6f800-9d0c-4797-94a4-e9c8eb4eefe5",
     "showTitle": true,
     "tableResultSettingsMap": {},
     "title": "Variables"
    }
   },
   "outputs": [],
   "source": [
    "# Define the metadata widget:\n",
    "dbutils.widgets.text(\"entityName\", \"\")\n",
    "dbutils.widgets.text(\"entitySourceQuery\", \"\")\n",
    "dbutils.widgets.text(\"entityColumns\", \"\")\n",
    "dbutils.widgets.text(\"sourceSystem\", \"\")\n",
    "\n",
    "# Save the parameter to a variable:\n",
    "entityName = dbutils.widgets.get('entityName')\n",
    "connection = json.loads(dbutils.widgets.get('entitySourceQuery'))\n",
    "sourceSystemName = dbutils.widgets.get('sourceSystem')\n",
    "\n",
    "# Access query from connection:\n",
    "query = connection['sourceQuery']\n",
    "\n",
    "# Access url from connection:\n",
    "url = connection['connectionString']"
   ]
  },
  {
   "cell_type": "code",
   "execution_count": 0,
   "metadata": {
    "application/vnd.databricks.v1+cell": {
     "cellMetadata": {
      "byteLimit": 2048000,
      "rowLimit": 10000
     },
     "inputWidgets": {},
     "nuid": "5a292ee0-0ff0-4eb7-882f-98bb931f7e8f",
     "showTitle": true,
     "tableResultSettingsMap": {},
     "title": "TotesysDB DF"
    }
   },
   "outputs": [],
   "source": [
    "# Check source system:\n",
    "if sourceSystemName == 'TotesysDB':\n",
    "  \n",
    "  # If entity is date, do not ingest:\n",
    "  if entityName == 'date':\n",
    "    dbutils.notebook.exit('None')\n",
    "  \n",
    "  else:\n",
    "    # Query the totesys database to ingest data:\n",
    "    df = query_totesys(query)"
   ]
  },
  {
   "cell_type": "code",
   "execution_count": 0,
   "metadata": {
    "application/vnd.databricks.v1+cell": {
     "cellMetadata": {
      "byteLimit": 2048000,
      "rowLimit": 10000
     },
     "inputWidgets": {},
     "nuid": "faeed9ec-8d0b-4b6e-aea4-5a05e96262d7",
     "showTitle": true,
     "tableResultSettingsMap": {},
     "title": "AdventureWorks DF"
    }
   },
   "outputs": [],
   "source": [
    "# Check source system:\n",
    "if sourceSystemName == 'AdventureWorks':\n",
    "    # URL comes from sourceQuery:\n",
    "    url = connection['connectionString']\n",
    "\n",
    "    # Get the CSV file content as a string:\n",
    "    response = requests.get(url)\n",
    "    \n",
    "    # Define temp path in DBFS:\n",
    "    temp_path = f'/dbfs/tmp/{entityName}.csv'\n",
    "    \n",
    "    # Write to DBFS:\n",
    "    dbutils.fs.put(temp_path, response.content.decode('utf-8'), overwrite=True)\n",
    "    \n",
    "    # Create a DataFrame from the CSV file:\n",
    "    df = spark.read.csv(temp_path, header=True, inferSchema=True)"
   ]
  },
  {
   "cell_type": "code",
   "execution_count": 0,
   "metadata": {
    "application/vnd.databricks.v1+cell": {
     "cellMetadata": {
      "byteLimit": 2048000,
      "rowLimit": 10000
     },
     "inputWidgets": {},
     "nuid": "85b42151-1412-46bf-b9ec-43378af4db35",
     "showTitle": true,
     "tableResultSettingsMap": {},
     "title": "Write"
    }
   },
   "outputs": [],
   "source": [
    "# Check data exists:\n",
    "if df.count() > 0:\n",
    "    # Define file_path to save data:\n",
    "    file_path = f\"/{sourceSystemName}/{entityName}/{date_path}/\"\n",
    "    \n",
    "    # Set location for parquet:\n",
    "    location = BRONZE + file_path\n",
    "    \n",
    "    # Write parquet to data lake:\n",
    "    df.write.mode('overwrite').format('parquet').option('header', 'true').save(location)\n"
   ]
  },
  {
   "cell_type": "code",
   "execution_count": 0,
   "metadata": {
    "application/vnd.databricks.v1+cell": {
     "cellMetadata": {
      "byteLimit": 2048000,
      "rowLimit": 10000
     },
     "inputWidgets": {},
     "nuid": "10289003-462e-45bd-8527-da73a39666ad",
     "showTitle": true,
     "tableResultSettingsMap": {},
     "title": "Exit"
    }
   },
   "outputs": [],
   "source": [
    "# Output file path for entity:\n",
    "dbutils.notebook.exit(file_path) "
   ]
  }
 ],
 "metadata": {
  "application/vnd.databricks.v1+notebook": {
   "computePreferences": null,
   "dashboards": [],
   "environmentMetadata": {
    "base_environment": "",
    "environment_version": "2"
   },
   "language": "python",
   "notebookMetadata": {
    "mostRecentlyExecutedCommandWithImplicitDF": {
     "commandId": -1,
     "dataframes": [
      "_sqldf"
     ]
    },
    "pythonIndentUnit": 4
   },
   "notebookName": "BRONZE",
   "widgets": {
    "entityColumns": {
     "currentValue": "[{\"sortOrder\": 1, \"columnName\": \"ProductID\", \"dataType\": \"int\"}, {\"sortOrder\": 2, \"columnName\": \"ProductName\", \"dataType\": \"varchar\"}, {\"sortOrder\": 3, \"columnName\": \"Category\", \"dataType\": \"varchar\"}, {\"sortOrder\": 4, \"columnName\": \"ListPrice\", \"dataType\": \"double\"}]",
     "nuid": "d3b52a4e-3181-4024-a50a-eb77f4f0c3ef",
     "typedWidgetInfo": {
      "autoCreated": false,
      "defaultValue": "",
      "label": null,
      "name": "entityColumns",
      "options": {
       "widgetDisplayType": "Text",
       "validationRegex": null
      },
      "parameterDataType": "String"
     },
     "widgetInfo": {
      "widgetType": "text",
      "defaultValue": "",
      "label": null,
      "name": "entityColumns",
      "options": {
       "widgetType": "text",
       "autoCreated": null,
       "validationRegex": null
      }
     }
    },
    "entityName": {
     "currentValue": "staff",
     "nuid": "73e25987-e884-4684-b70d-df3248a92137",
     "typedWidgetInfo": {
      "autoCreated": false,
      "defaultValue": "",
      "label": null,
      "name": "entityName",
      "options": {
       "widgetDisplayType": "Text",
       "validationRegex": null
      },
      "parameterDataType": "String"
     },
     "widgetInfo": {
      "widgetType": "text",
      "defaultValue": "",
      "label": null,
      "name": "entityName",
      "options": {
       "widgetType": "text",
       "autoCreated": null,
       "validationRegex": null
      }
     }
    },
    "entitySourceQuery": {
     "currentValue": "{\"connectionString\": \"https://raw.githubusercontent.com/MicrosoftLearning/dp-203-azure-data-engineer/master/Allfiles/labs/01/adventureworks/products.csv\", \"sourceQuery\": \"None\"}",
     "nuid": "410b8504-cbf3-4ad3-ae71-8d2bc762f3dc",
     "typedWidgetInfo": {
      "autoCreated": false,
      "defaultValue": "",
      "label": null,
      "name": "entitySourceQuery",
      "options": {
       "widgetDisplayType": "Text",
       "validationRegex": null
      },
      "parameterDataType": "String"
     },
     "widgetInfo": {
      "widgetType": "text",
      "defaultValue": "",
      "label": null,
      "name": "entitySourceQuery",
      "options": {
       "widgetType": "text",
       "autoCreated": null,
       "validationRegex": null
      }
     }
    },
    "sourceSystem": {
     "currentValue": "AdventureWorks",
     "nuid": "aed9994e-94d5-4e89-b800-96aa35276063",
     "typedWidgetInfo": {
      "autoCreated": false,
      "defaultValue": "",
      "label": null,
      "name": "sourceSystem",
      "options": {
       "widgetDisplayType": "Text",
       "validationRegex": null
      },
      "parameterDataType": "String"
     },
     "widgetInfo": {
      "widgetType": "text",
      "defaultValue": "",
      "label": null,
      "name": "sourceSystem",
      "options": {
       "widgetType": "text",
       "autoCreated": null,
       "validationRegex": null
      }
     }
    }
   }
  },
  "language_info": {
   "name": "python"
  }
 },
 "nbformat": 4,
 "nbformat_minor": 0
}
