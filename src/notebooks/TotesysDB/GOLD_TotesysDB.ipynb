{
 "cells": [
  {
   "cell_type": "code",
   "execution_count": 0,
   "metadata": {
    "application/vnd.databricks.v1+cell": {
     "cellMetadata": {
      "byteLimit": 2048000,
      "rowLimit": 10000
     },
     "inputWidgets": {},
     "nuid": "7b12ff3c-2e6f-442f-977c-295ddbb2b306",
     "showTitle": false,
     "tableResultSettingsMap": {},
     "title": ""
    }
   },
   "outputs": [],
   "source": [
    "%run \"../Configuration\""
   ]
  },
  {
   "cell_type": "code",
   "execution_count": 0,
   "metadata": {
    "application/vnd.databricks.v1+cell": {
     "cellMetadata": {
      "byteLimit": 2048000,
      "rowLimit": 10000
     },
     "inputWidgets": {},
     "nuid": "1b282c9c-af9f-4884-9c85-396ca8bc2049",
     "showTitle": true,
     "tableResultSettingsMap": {},
     "title": "Variables"
    }
   },
   "outputs": [],
   "source": [
    "# Define the metadata widget:\n",
    "dbutils.widgets.text(\"entityName\", \"\")\n",
    "dbutils.widgets.text(\"sourceSystem\", \"\")\n",
    "\n",
    "# Save parameters to variables:\n",
    "entityName =       dbutils.widgets.get('entityName')\n",
    "sourceSystemName = dbutils.widgets.get('sourceSystem')"
   ]
  },
  {
   "cell_type": "code",
   "execution_count": 0,
   "metadata": {
    "application/vnd.databricks.v1+cell": {
     "cellMetadata": {
      "byteLimit": 2048000,
      "rowLimit": 10000
     },
     "inputWidgets": {},
     "nuid": "968e9560-257c-4e51-b2b1-8176a4bcf192",
     "showTitle": true,
     "tableResultSettingsMap": {},
     "title": "entityNames"
    }
   },
   "outputs": [],
   "source": [
    "# Define query to extract entityNames from sourceSystem table:\n",
    "query = f\"\"\"\n",
    "  SELECT entityNames\n",
    "  FROM   sourceSystem\n",
    "  WHERE  sourceSystemName = '{sourceSystemName}'\n",
    "  \"\"\"\n",
    "\n",
    "# Query the entity database (query_db).  Find names of entities associated with source system:\n",
    "entity_names = json.loads(query_entityNames(query))"
   ]
  },
  {
   "cell_type": "code",
   "execution_count": 0,
   "metadata": {
    "application/vnd.databricks.v1+cell": {
     "cellMetadata": {
      "byteLimit": 2048000,
      "rowLimit": 10000
     },
     "inputWidgets": {},
     "nuid": "6081f5f3-71fd-443b-a217-fb79d36e7c09",
     "showTitle": true,
     "tableResultSettingsMap": {},
     "title": "Create DataFrames"
    }
   },
   "outputs": [],
   "source": [
    "# For each entity name, create a dataFrame:\n",
    "for entity in entity_names:\n",
    "   # Read from BRONZE path in datalake:\n",
    "   globals()[f\"df_{entity}\"] = spark.read.format('delta').load(SILVER + entity_silver(entity))"
   ]
  },
  {
   "cell_type": "code",
   "execution_count": 0,
   "metadata": {
    "application/vnd.databricks.v1+cell": {
     "cellMetadata": {
      "byteLimit": 2048000,
      "rowLimit": 10000
     },
     "inputWidgets": {},
     "nuid": "cfc65b7e-1b7d-4359-bc66-e04d8d23a8b7",
     "showTitle": true,
     "tableResultSettingsMap": {},
     "title": "Create TempViews"
    }
   },
   "outputs": [],
   "source": [
    "# Iterate through entities to create temp views:\n",
    "for entity in entity_names:\n",
    "    # Create or replace tempView:\n",
    "    globals()[f'df_{entity}'].createOrReplaceTempView(f\"tv_{entity}\")"
   ]
  },
  {
   "cell_type": "code",
   "execution_count": 0,
   "metadata": {
    "application/vnd.databricks.v1+cell": {
     "cellMetadata": {
      "byteLimit": 2048000,
      "rowLimit": 10000
     },
     "inputWidgets": {},
     "nuid": "9c93906a-c939-49b2-87af-a0a809003b1d",
     "showTitle": true,
     "tableResultSettingsMap": {},
     "title": "dim_date"
    }
   },
   "outputs": [],
   "source": [
    "if entityName == 'date':\n",
    "    dbutils.notebook.exit('None')"
   ]
  },
  {
   "cell_type": "code",
   "execution_count": 0,
   "metadata": {
    "application/vnd.databricks.v1+cell": {
     "cellMetadata": {
      "byteLimit": 2048000,
      "rowLimit": 10000
     },
     "inputWidgets": {},
     "nuid": "23c54663-c6c5-4790-a5c3-aa4b12abf7fc",
     "showTitle": true,
     "tableResultSettingsMap": {},
     "title": "dim_design"
    }
   },
   "outputs": [],
   "source": [
    "if entityName == 'design':\n",
    "    \n",
    "    # Define Dynamic Query:\n",
    "    query = f\"\"\"\n",
    "    SELECT design_id\n",
    "    ,      design_name\n",
    "    ,      file_location\n",
    "    ,      file_name\n",
    "    FROM tv_design\n",
    "    \"\"\"\n",
    "    \n",
    "    # Execute Query:\n",
    "    df = spark.sql(query)"
   ]
  },
  {
   "cell_type": "code",
   "execution_count": 0,
   "metadata": {
    "application/vnd.databricks.v1+cell": {
     "cellMetadata": {
      "byteLimit": 2048000,
      "rowLimit": 10000
     },
     "inputWidgets": {},
     "nuid": "0a3a2372-6748-448a-98ca-dba159660582",
     "showTitle": true,
     "tableResultSettingsMap": {},
     "title": "dim_transaction"
    }
   },
   "outputs": [],
   "source": [
    "if entityName == 'transaction':\n",
    "    query = f\"\"\"\n",
    "    SELECT transaction_id\n",
    "    ,      transaction_type\n",
    "    ,      sales_order_id\n",
    "    ,      purchase_order_id\n",
    "    FROM tv_transaction\n",
    "    \"\"\"\n",
    "\n",
    "    # Execute Query:\n",
    "    df = spark.sql(query)"
   ]
  },
  {
   "cell_type": "code",
   "execution_count": 0,
   "metadata": {
    "application/vnd.databricks.v1+cell": {
     "cellMetadata": {
      "byteLimit": 2048000,
      "rowLimit": 10000
     },
     "inputWidgets": {},
     "nuid": "5c8bd49f-c89f-452f-a971-a49d754d31e6",
     "showTitle": true,
     "tableResultSettingsMap": {},
     "title": "dim_payment_type"
    }
   },
   "outputs": [],
   "source": [
    "if entityName == 'payment_type':\n",
    "    query = f\"\"\"\n",
    "    SELECT payment_type_id\n",
    "    ,      payment_type_name\n",
    "    FROM tv_payment_type\n",
    "    \"\"\"\n",
    "    \n",
    "    # Execute Query:\n",
    "    df = spark.sql(query)"
   ]
  },
  {
   "cell_type": "code",
   "execution_count": 0,
   "metadata": {
    "application/vnd.databricks.v1+cell": {
     "cellMetadata": {
      "byteLimit": 2048000,
      "rowLimit": 10000
     },
     "inputWidgets": {},
     "nuid": "5e9f45a4-d5a4-43f7-967d-92878d5c9965",
     "showTitle": true,
     "tableResultSettingsMap": {},
     "title": "dim_location"
    }
   },
   "outputs": [],
   "source": [
    "if entityName == 'location':\n",
    "    query = f\"\"\"\n",
    "    SELECT address_id AS location_id\n",
    "    ,      address_line_1\n",
    "    ,      address_line_2\n",
    "    ,      district\n",
    "    ,      city\n",
    "    ,      postal_code\n",
    "    ,      country\n",
    "    ,      phone\n",
    "    FROM tv_location\n",
    "    \"\"\"\n",
    "\n",
    "    # Execute Query:\n",
    "    df = spark.sql(query)"
   ]
  },
  {
   "cell_type": "code",
   "execution_count": 0,
   "metadata": {
    "application/vnd.databricks.v1+cell": {
     "cellMetadata": {
      "byteLimit": 2048000,
      "rowLimit": 10000
     },
     "inputWidgets": {},
     "nuid": "d582cdd1-21dd-4cdc-b4eb-4b241888f767",
     "showTitle": true,
     "tableResultSettingsMap": {},
     "title": "dim_currency"
    }
   },
   "outputs": [],
   "source": [
    "if entityName == 'currency':\n",
    "    query = f\"\"\"\n",
    "    SELECT currency_id\n",
    "    ,      currency_code\n",
    "    ,      CASE \n",
    "                WHEN currency_code = 'USD' THEN 'United States Dollar'\n",
    "                WHEN currency_code = 'EUR' THEN 'Euro'\n",
    "                WHEN currency_code = 'JPY' THEN 'Japanese Yen'\n",
    "                WHEN currency_code = 'GBP' THEN 'British Pound Sterling'\n",
    "                WHEN currency_code = 'AUD' THEN 'Australian Dollar'\n",
    "                WHEN currency_code = 'CAD' THEN 'Canadian Dollar'\n",
    "                WHEN currency_code = 'CHF' THEN 'Swiss Franc'\n",
    "                WHEN currency_code = 'CNY' THEN 'Chinese Yuan'\n",
    "                WHEN currency_code = 'NZD' THEN 'New Zealand Dollar'\n",
    "                ELSE 'Unknown Currency'\n",
    "           END AS currency_name   \n",
    "    FROM tv_currency\n",
    "    \"\"\"\n",
    "    \n",
    "    # Execute Query:\n",
    "    df = spark.sql(query)"
   ]
  },
  {
   "cell_type": "code",
   "execution_count": 0,
   "metadata": {
    "application/vnd.databricks.v1+cell": {
     "cellMetadata": {
      "byteLimit": 2048000,
      "rowLimit": 10000
     },
     "inputWidgets": {},
     "nuid": "3ba51ea1-7baa-4005-81bc-54ec26e46efa",
     "showTitle": true,
     "tableResultSettingsMap": {},
     "title": "dim_counterparty"
    }
   },
   "outputs": [],
   "source": [
    "if entityName == 'counterparty':\n",
    "    query = f\"\"\"\n",
    "    SELECT cp.counterparty_id\n",
    "    ,      cp.counterparty_legal_name\n",
    "    ,      l.address_line_1 AS counterparty_legal_address_line_1\n",
    "    ,      l.address_line_2 AS counterparty_legal_address_line_2\n",
    "    ,      l.district AS counterparty_legal_district\n",
    "    ,      l.city AS counterparty_legal_city\n",
    "    ,      l.postal_code AS counterparty_legal_postal_code\n",
    "    ,      l.country AS counterparty_legal_country\n",
    "    ,      l.phone AS counterparty_legal_phone\n",
    "    FROM tv_counterparty cp\n",
    "    JOIN tv_location l ON cp.legal_address_id = l.address_id\n",
    "    \"\"\"\n",
    "\n",
    "    # Execute Query:\n",
    "    df = spark.sql(query)"
   ]
  },
  {
   "cell_type": "code",
   "execution_count": 0,
   "metadata": {
    "application/vnd.databricks.v1+cell": {
     "cellMetadata": {
      "byteLimit": 2048000,
      "rowLimit": 10000
     },
     "inputWidgets": {},
     "nuid": "8a216d92-72bb-47e4-9599-69f94eefbee3",
     "showTitle": true,
     "tableResultSettingsMap": {},
     "title": "dim_department"
    }
   },
   "outputs": [],
   "source": [
    "if entityName == 'department':\n",
    "    query = f\"\"\"\n",
    "    SELECT department_id\n",
    "    ,      department_name\n",
    "    ,      location AS department_location\n",
    "    ,      manager AS department_manager\n",
    "    ,      created_at\n",
    "    ,      last_updated\n",
    "    FROM tv_department\n",
    "    \"\"\"\n",
    "\n",
    "    # Execute Query:\n",
    "    df = spark.sql(query)"
   ]
  },
  {
   "cell_type": "code",
   "execution_count": 0,
   "metadata": {
    "application/vnd.databricks.v1+cell": {
     "cellMetadata": {
      "byteLimit": 2048000,
      "rowLimit": 10000
     },
     "inputWidgets": {},
     "nuid": "907d330f-e1ed-4c73-9bae-ea296ca66722",
     "showTitle": true,
     "tableResultSettingsMap": {},
     "title": "dim_staff"
    }
   },
   "outputs": [],
   "source": [
    "if entityName == 'staff':\n",
    "    query = f\"\"\"\n",
    "    SELECT s.staff_id\n",
    "    ,      s.first_name\n",
    "    ,      s.last_name\n",
    "    ,      d.department_name\n",
    "    ,      d.location\n",
    "    ,      s.email_address\n",
    "    FROM tv_staff s\n",
    "    JOIN tv_department d ON s.department_id = d.department_id\n",
    "    \"\"\"\n",
    "\n",
    "    # Execute Query:\n",
    "    df = spark.sql(query)\n"
   ]
  },
  {
   "cell_type": "code",
   "execution_count": 0,
   "metadata": {
    "application/vnd.databricks.v1+cell": {
     "cellMetadata": {
      "byteLimit": 2048000,
      "rowLimit": 10000
     },
     "inputWidgets": {},
     "nuid": "dc65941b-5035-48ad-8361-81b2b865cba1",
     "showTitle": true,
     "tableResultSettingsMap": {},
     "title": "fact_payment"
    }
   },
   "outputs": [],
   "source": [
    "if entityName == 'payment':\n",
    "    query = f\"\"\"\n",
    "    SELECT\n",
    "          ROW_NUMBER() OVER (ORDER BY p.payment_id) AS payment_record_id\n",
    "        , p.payment_id\n",
    "        , date_format(p.created_at, 'dd-MM-yy') AS created_date\n",
    "        , date_format(p.created_at, 'HH:mm:ss') AS created_time\n",
    "        , date_format(p.last_updated, 'dd-MM-yy') AS last_updated_date\n",
    "        , date_format(p.last_updated, 'HH:mm:ss') AS last_updated_time\n",
    "        , t.transaction_id\n",
    "        , cp.counterparty_id \n",
    "        , p.payment_amount\n",
    "        , c.currency_id\n",
    "        , pt.payment_type_id\n",
    "        , p.paid\n",
    "        , date_format(p.payment_date, 'dd-MM-yy') AS payment_date\n",
    "    FROM tv_payment p\n",
    "    JOIN tv_counterparty cp ON p.counterparty_id = cp.counterparty_id\n",
    "    JOIN tv_currency c ON p.currency_id = c.currency_id\n",
    "    JOIN tv_payment_type pt ON p.payment_type_id = pt.payment_type_id\n",
    "    JOIN tv_transaction t ON p.transaction_id = t.transaction_id\n",
    "    \"\"\"\n",
    " \n",
    "    # Execute Query:\n",
    "    df = spark.sql(query)"
   ]
  },
  {
   "cell_type": "code",
   "execution_count": 0,
   "metadata": {
    "application/vnd.databricks.v1+cell": {
     "cellMetadata": {
      "byteLimit": 2048000,
      "rowLimit": 10000
     },
     "inputWidgets": {},
     "nuid": "a102e594-16b9-416c-ae83-50f6c57b35ff",
     "showTitle": true,
     "tableResultSettingsMap": {},
     "title": "fact_purchase_order"
    }
   },
   "outputs": [],
   "source": [
    "if entityName == 'purchase_order':\n",
    "    query = f\"\"\"\n",
    "    SELECT\n",
    "           ROW_NUMBER() OVER (ORDER BY po.purchase_order_id) as purchase_record_id\n",
    "    ,      po.purchase_order_id\n",
    "    ,      date_format(po.created_at, 'dd-MM-yy') AS created_date\n",
    "    ,      date_format(po.created_at, 'HH:mm:ss') AS created_time\n",
    "    ,      date_format(po.last_updated, 'dd-MM-yy') AS last_updated_date  \n",
    "    ,      date_format(po.last_updated, 'HH:mm:ss') AS last_updated_time\n",
    "    ,      s.staff_id\n",
    "    ,      cp.counterparty_id\n",
    "    ,      po.item_code\n",
    "    ,      po.item_quantity\n",
    "    ,      po.item_unit_price\n",
    "    ,      c.currency_id\n",
    "    ,      po.agreed_delivery_date\n",
    "    ,      po.agreed_payment_date \n",
    "    ,      l.address_id AS agreed_delivery_location_id\n",
    "\n",
    "    FROM tv_purchase_order po\n",
    "       JOIN tv_staff        s      ON po.staff_id = s.staff_id \n",
    "       JOIN tv_counterparty cp     ON po.counterparty_id = cp.counterparty_id\n",
    "       JOIN tv_currency     c      ON po.currency_id = c.currency_id\n",
    "       JOIN tv_location     l      ON po.agreed_delivery_location_id = l.address_id\n",
    "   \n",
    "    \"\"\"\n",
    "\n",
    "    # Execute Query:\n",
    "    df = spark.sql(query)\n",
    "\n"
   ]
  },
  {
   "cell_type": "code",
   "execution_count": 0,
   "metadata": {
    "application/vnd.databricks.v1+cell": {
     "cellMetadata": {
      "byteLimit": 2048000,
      "rowLimit": 10000
     },
     "inputWidgets": {},
     "nuid": "c51aa481-a487-47cf-8bee-24ce5a48f7df",
     "showTitle": true,
     "tableResultSettingsMap": {},
     "title": "fact_sales_order"
    }
   },
   "outputs": [],
   "source": [
    "if entityName == 'sales_order':\n",
    "    query = f\"\"\"\n",
    "    SELECT \n",
    "           ROW_NUMBER() OVER (ORDER BY so.sales_order_id) AS sales_record_id\n",
    "    ,      so.sales_order_id\n",
    "    ,      date_format(so.created_at, 'dd-MM-yy') AS created_date\n",
    "    ,      date_format(so.created_at, 'HH:mm:ss') AS created_time\n",
    "    ,      date_format(so.last_updated, 'dd-MM-yy') AS   last_updated_date\n",
    "    ,      date_format(so.last_updated, 'HH:mm:ss') AS   last_updated_time\n",
    "    ,      s.staff_id AS sales_staff_id\n",
    "    ,      cp.counterparty_id \n",
    "    ,      so.units_sold\n",
    "    ,      so.unit_price\n",
    "    ,      c.currency_id\n",
    "    ,      d.design_id\n",
    "    ,      so.agreed_payment_date\n",
    "    ,      so.agreed_delivery_date\n",
    "    ,      l.address_id AS agreed_delivery_location_id\n",
    "    FROM tv_sales_order so\n",
    "    JOIN tv_counterparty cp ON so.counterparty_id = cp.counterparty_id\n",
    "    JOIN tv_staff s ON so.staff_id = s.staff_id\n",
    "    JOIN tv_currency c ON so.currency_id = c.currency_id\n",
    "    JOIN tv_design d ON so.design_id = d.design_id\n",
    "    JOIN tv_location l on so.agreed_delivery_location_id = l.address_id\n",
    "    \"\"\"\n",
    "    \n",
    "    # Execute Query:\n",
    "    df = spark.sql(query)"
   ]
  },
  {
   "cell_type": "code",
   "execution_count": 0,
   "metadata": {
    "application/vnd.databricks.v1+cell": {
     "cellMetadata": {
      "byteLimit": 2048000,
      "rowLimit": 10000
     },
     "inputWidgets": {},
     "nuid": "4a56b7eb-4aee-46c7-a83c-13bc4964dbff",
     "showTitle": true,
     "tableResultSettingsMap": {},
     "title": "Write Delta"
    }
   },
   "outputs": [],
   "source": [
    "# Check data exists:\n",
    "if df.count() > 0:\n",
    "    # Set location for delta table:\n",
    "    file_path = f\"/{sourceSystemName}/{entityName}\"\n",
    "    \n",
    "    # Write to delta table:\n",
    "    df.write.mode('overwrite').format('delta').option('header', 'true').save(GOLD + file_path)\n",
    "\n",
    "    # Output file_path:\n",
    "    dbutils.notebook.exit(file_path)\n"
   ]
  }
 ],
 "metadata": {
  "application/vnd.databricks.v1+notebook": {
   "computePreferences": null,
   "dashboards": [],
   "environmentMetadata": {
    "base_environment": "",
    "environment_version": "2"
   },
   "language": "python",
   "notebookMetadata": {
    "mostRecentlyExecutedCommandWithImplicitDF": {
     "commandId": 1539062901083085,
     "dataframes": [
      "_sqldf"
     ]
    },
    "pythonIndentUnit": 4
   },
   "notebookName": "GOLD_TotesysDB",
   "widgets": {
    "entityColumns": {
     "currentValue": "[{\"sortOrder\": 1, \"columnName\": \"payment_type_id\", \"dataType\": \"int\"}, {\"sortOrder\": 2, \"columnName\": \"payment_type_name\", \"dataType\": \"string\"}]",
     "nuid": "64e27337-10d6-4ff1-ad73-11c5eee59eb7",
     "typedWidgetInfo": {
      "autoCreated": false,
      "defaultValue": "",
      "label": null,
      "name": "entityColumns",
      "options": {
       "widgetDisplayType": "Text",
       "validationRegex": null
      },
      "parameterDataType": "String"
     },
     "widgetInfo": {
      "widgetType": "text",
      "defaultValue": "",
      "label": null,
      "name": "entityColumns",
      "options": {
       "widgetType": "text",
       "autoCreated": null,
       "validationRegex": null
      }
     }
    },
    "entityName": {
     "currentValue": "sales_order",
     "nuid": "ce268007-f490-4643-ac59-e91eb16e75d1",
     "typedWidgetInfo": {
      "autoCreated": false,
      "defaultValue": "",
      "label": null,
      "name": "entityName",
      "options": {
       "widgetDisplayType": "Text",
       "validationRegex": null
      },
      "parameterDataType": "String"
     },
     "widgetInfo": {
      "widgetType": "text",
      "defaultValue": "",
      "label": null,
      "name": "entityName",
      "options": {
       "widgetType": "text",
       "autoCreated": null,
       "validationRegex": null
      }
     }
    },
    "sourceSystem": {
     "currentValue": "TotesysDB",
     "nuid": "8812902f-648d-44eb-897c-f6edce76ff30",
     "typedWidgetInfo": {
      "autoCreated": false,
      "defaultValue": "",
      "label": null,
      "name": "sourceSystem",
      "options": {
       "widgetDisplayType": "Text",
       "validationRegex": null
      },
      "parameterDataType": "String"
     },
     "widgetInfo": {
      "widgetType": "text",
      "defaultValue": "",
      "label": null,
      "name": "sourceSystem",
      "options": {
       "widgetType": "text",
       "autoCreated": null,
       "validationRegex": null
      }
     }
    }
   }
  },
  "language_info": {
   "name": "python"
  }
 },
 "nbformat": 4,
 "nbformat_minor": 0
}
