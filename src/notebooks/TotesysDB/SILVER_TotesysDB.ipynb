{
 "cells": [
  {
   "cell_type": "code",
   "execution_count": 0,
   "metadata": {
    "application/vnd.databricks.v1+cell": {
     "cellMetadata": {
      "byteLimit": 2048000,
      "rowLimit": 10000
     },
     "inputWidgets": {},
     "nuid": "7b12ff3c-2e6f-442f-977c-295ddbb2b306",
     "showTitle": false,
     "tableResultSettingsMap": {},
     "title": ""
    }
   },
   "outputs": [],
   "source": [
    "%run \"../Configuration\""
   ]
  },
  {
   "cell_type": "code",
   "execution_count": 0,
   "metadata": {
    "application/vnd.databricks.v1+cell": {
     "cellMetadata": {
      "byteLimit": 2048000,
      "rowLimit": 10000
     },
     "inputWidgets": {},
     "nuid": "1b282c9c-af9f-4884-9c85-396ca8bc2049",
     "showTitle": true,
     "tableResultSettingsMap": {},
     "title": "Variables"
    }
   },
   "outputs": [],
   "source": [
    "# Define the metadata widget:\n",
    "dbutils.widgets.text(\"entityName\", \"\")\n",
    "dbutils.widgets.text(\"entityIngestionColumns\", \"\")\n",
    "dbutils.widgets.text(\"sourceSystem\", \"\")\n",
    "\n",
    "# Save parameters to variables:\n",
    "entityName =       dbutils.widgets.get('entityName')\n",
    "sourceSystemName = dbutils.widgets.get('sourceSystem')\n",
    "columns =          json.loads(dbutils.widgets.get('entityIngestionColumns'))\n",
    "# Query sourceEntity table to find location of raw data:\n",
    "raw_path =         entity_bronze(entityName)"
   ]
  },
  {
   "cell_type": "code",
   "execution_count": 0,
   "metadata": {
    "application/vnd.databricks.v1+cell": {
     "cellMetadata": {
      "byteLimit": 2048000,
      "rowLimit": 10000
     },
     "inputWidgets": {},
     "nuid": "9c93906a-c939-49b2-87af-a0a809003b1d",
     "showTitle": true,
     "tableResultSettingsMap": {},
     "title": "date"
    }
   },
   "outputs": [],
   "source": [
    "# Ignore if date:\n",
    "if entityName == 'date':\n",
    "    # Currently no date table.  Exit notebook:\n",
    "    dbutils.notebook.exit('None')"
   ]
  },
  {
   "cell_type": "code",
   "execution_count": 0,
   "metadata": {
    "application/vnd.databricks.v1+cell": {
     "cellMetadata": {
      "byteLimit": 2048000,
      "rowLimit": 10000
     },
     "inputWidgets": {},
     "nuid": "f69c0c34-ba0b-472f-a15e-9da34b2c7a30",
     "showTitle": true,
     "tableResultSettingsMap": {},
     "title": "Create Dataframe"
    }
   },
   "outputs": [],
   "source": [
    "# Create dataframe:\n",
    "df = spark.read.format('parquet').load(BRONZE + raw_path)"
   ]
  },
  {
   "cell_type": "code",
   "execution_count": 0,
   "metadata": {
    "application/vnd.databricks.v1+cell": {
     "cellMetadata": {
      "byteLimit": 2048000,
      "rowLimit": 10000
     },
     "inputWidgets": {},
     "nuid": "d582cdd1-21dd-4cdc-b4eb-4b241888f767",
     "showTitle": true,
     "tableResultSettingsMap": {},
     "title": "currency"
    }
   },
   "outputs": [],
   "source": [
    "if entityName == 'currency':\n",
    "    tv_currency = df.createOrReplaceTempView('tv_currency')\n",
    "    query = f\"\"\"\n",
    "    SELECT CAST(currency_id AS {columns[0]['dataType']}) AS {columns[0]['columnName']}\n",
    "    ,      {columns[1]['dataType']}(currency_code) AS {columns[1]['columnName']}\n",
    "    ,      CASE \n",
    "                WHEN currency_code = 'USD' THEN 'United States Dollar'\n",
    "                WHEN currency_code = 'EUR' THEN 'Euro'\n",
    "                WHEN currency_code = 'JPY' THEN 'Japanese Yen'\n",
    "                WHEN currency_code = 'GBP' THEN 'British Pound Sterling'\n",
    "                WHEN currency_code = 'AUD' THEN 'Australian Dollar'\n",
    "                WHEN currency_code = 'CAD' THEN 'Canadian Dollar'\n",
    "                WHEN currency_code = 'CHF' THEN 'Swiss Franc'\n",
    "                WHEN currency_code = 'CNY' THEN 'Chinese Yuan'\n",
    "                WHEN currency_code = 'NZD' THEN 'New Zealand Dollar'\n",
    "                ELSE 'Unknown Currency'\n",
    "           END AS {columns[2]['columnName']}   \n",
    "    FROM tv_currency\n",
    "    \"\"\"\n",
    "    \n",
    "    # Execute Query:\n",
    "    df = spark.sql(query)"
   ]
  },
  {
   "cell_type": "code",
   "execution_count": 0,
   "metadata": {
    "application/vnd.databricks.v1+cell": {
     "cellMetadata": {
      "byteLimit": 2048000,
      "rowLimit": 10000
     },
     "inputWidgets": {},
     "nuid": "5b286e28-cb00-49b9-8aa9-ee66590c3eeb",
     "showTitle": true,
     "tableResultSettingsMap": {},
     "title": "Cleansing"
    }
   },
   "outputs": [],
   "source": [
    "# Cast data types:\n",
    "df = cast_data_types_ingestion(df)\n",
    "\n",
    "# Drop unwanted columns:\n",
    "df = drop_unwanted_columns_ingestion(df)\n",
    "\n",
    "# Drop duplicate values:\n",
    "df = drop_duplicates_ingestion(df)\n",
    "    "
   ]
  },
  {
   "cell_type": "code",
   "execution_count": 0,
   "metadata": {
    "application/vnd.databricks.v1+cell": {
     "cellMetadata": {
      "byteLimit": 2048000,
      "rowLimit": 10000
     },
     "inputWidgets": {},
     "nuid": "4a56b7eb-4aee-46c7-a83c-13bc4964dbff",
     "showTitle": true,
     "tableResultSettingsMap": {},
     "title": "Write"
    }
   },
   "outputs": [],
   "source": [
    "# Check data exists:\n",
    "if df.count() > 0:\n",
    "    # Set location for delta table:\n",
    "    location = f\"/{sourceSystemName}/{entityName}/\"\n",
    "    \n",
    "    # Write to delta table:\n",
    "    df.write.mode('overwrite').format('delta').option('header', 'true').save(SILVER + location)\n",
    "\n",
    "    # Output location:\n",
    "    dbutils.notebook.exit(location)\n",
    "else:\n",
    "    dbutils.notebook.exit(-1)\n"
   ]
  }
 ],
 "metadata": {
  "application/vnd.databricks.v1+notebook": {
   "computePreferences": null,
   "dashboards": [],
   "environmentMetadata": {
    "base_environment": "",
    "environment_version": "2"
   },
   "language": "python",
   "notebookMetadata": {
    "mostRecentlyExecutedCommandWithImplicitDF": {
     "commandId": 5103046248856419,
     "dataframes": [
      "_sqldf"
     ]
    },
    "pythonIndentUnit": 4
   },
   "notebookName": "SILVER_TotesysDB",
   "widgets": {
    "entityIngestionColumns": {
     "currentValue": "[{\"sortOrder\": 1, \"columnName\": \"currency_id\", \"dataType\": \"int\", \"required\": true, \"primary_key\": true}, {\"sortOrder\": 2, \"columnName\": \"currency_code\", \"dataType\": \"string\", \"required\": true, \"primary_key\": false}, {\"sortOrder\": 3, \"columnName\": \"created_at\", \"dataType\": \"date\", \"required\": false, \"primary_key\": false}, {\"sortOrder\": 4, \"columnName\": \"last_updated\", \"dataType\": \"date\", \"required\": false, \"primary_key\": false}]",
     "nuid": "be784f7d-8891-4e0c-82a8-02ffa114f0d4",
     "typedWidgetInfo": {
      "autoCreated": false,
      "defaultValue": "",
      "label": null,
      "name": "entityIngestionColumns",
      "options": {
       "widgetDisplayType": "Text",
       "validationRegex": null
      },
      "parameterDataType": "String"
     },
     "widgetInfo": {
      "widgetType": "text",
      "defaultValue": "",
      "label": null,
      "name": "entityIngestionColumns",
      "options": {
       "widgetType": "text",
       "autoCreated": null,
       "validationRegex": null
      }
     }
    },
    "entityName": {
     "currentValue": "currency",
     "nuid": "ce268007-f490-4643-ac59-e91eb16e75d1",
     "typedWidgetInfo": {
      "autoCreated": false,
      "defaultValue": "",
      "label": null,
      "name": "entityName",
      "options": {
       "widgetDisplayType": "Text",
       "validationRegex": null
      },
      "parameterDataType": "String"
     },
     "widgetInfo": {
      "widgetType": "text",
      "defaultValue": "",
      "label": null,
      "name": "entityName",
      "options": {
       "widgetType": "text",
       "autoCreated": null,
       "validationRegex": null
      }
     }
    },
    "sourceSystem": {
     "currentValue": "TotesysDB",
     "nuid": "8812902f-648d-44eb-897c-f6edce76ff30",
     "typedWidgetInfo": {
      "autoCreated": false,
      "defaultValue": "",
      "label": null,
      "name": "sourceSystem",
      "options": {
       "widgetDisplayType": "Text",
       "validationRegex": null
      },
      "parameterDataType": "String"
     },
     "widgetInfo": {
      "widgetType": "text",
      "defaultValue": "",
      "label": null,
      "name": "sourceSystem",
      "options": {
       "widgetType": "text",
       "autoCreated": null,
       "validationRegex": null
      }
     }
    }
   }
  },
  "language_info": {
   "name": "python"
  }
 },
 "nbformat": 4,
 "nbformat_minor": 0
}
