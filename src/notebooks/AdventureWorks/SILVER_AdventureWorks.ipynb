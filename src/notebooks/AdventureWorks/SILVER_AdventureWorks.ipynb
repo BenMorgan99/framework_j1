{
 "cells": [
  {
   "cell_type": "code",
   "execution_count": 0,
   "metadata": {
    "application/vnd.databricks.v1+cell": {
     "cellMetadata": {
      "byteLimit": 2048000,
      "rowLimit": 10000
     },
     "inputWidgets": {},
     "nuid": "a0428ba2-03ed-4d24-b3eb-643babe81a2a",
     "showTitle": true,
     "tableResultSettingsMap": {},
     "title": "Configuration"
    }
   },
   "outputs": [],
   "source": [
    "%run \"../Configuration\""
   ]
  },
  {
   "cell_type": "code",
   "execution_count": 0,
   "metadata": {
    "application/vnd.databricks.v1+cell": {
     "cellMetadata": {
      "byteLimit": 2048000,
      "rowLimit": 10000
     },
     "inputWidgets": {},
     "nuid": "cf2e703b-528c-46a1-8430-5f9be3b2af18",
     "showTitle": true,
     "tableResultSettingsMap": {},
     "title": "Variables"
    }
   },
   "outputs": [],
   "source": [
    "# Define the metadata widget:\n",
    "dbutils.widgets.text(\"entityName\", \"\")\n",
    "dbutils.widgets.text(\"entityIngestionColumns\", \"\")\n",
    "dbutils.widgets.text(\"sourceSystem\", \"\")\n",
    "\n",
    "# Save parameters to variables:\n",
    "entityName =       dbutils.widgets.get('entityName')\n",
    "sourceSystemName = dbutils.widgets.get('sourceSystem')\n",
    "columns =          json.loads(dbutils.widgets.get('entityIngestionColumns'))\n",
    "raw_path =         entity_bronze(entityName)"
   ]
  },
  {
   "cell_type": "code",
   "execution_count": 0,
   "metadata": {
    "application/vnd.databricks.v1+cell": {
     "cellMetadata": {
      "byteLimit": 2048000,
      "rowLimit": 10000
     },
     "inputWidgets": {},
     "nuid": "8ccb21fe-0290-4c48-9044-49bdb5d523bc",
     "showTitle": true,
     "tableResultSettingsMap": {},
     "title": "Create DataFrame"
    }
   },
   "outputs": [],
   "source": [
    "df = spark.read.format(\"csv\").option(\"header\", \"true\").option(\"inferSchema\", \"true\").load(BRONZE + raw_path)"
   ]
  },
  {
   "cell_type": "code",
   "execution_count": 0,
   "metadata": {
    "application/vnd.databricks.v1+cell": {
     "cellMetadata": {
      "byteLimit": 2048000,
      "rowLimit": 10000
     },
     "inputWidgets": {},
     "nuid": "5a5c4b90-f030-4f64-9627-fb379c251c53",
     "showTitle": true,
     "tableResultSettingsMap": {},
     "title": "Create Temp View"
    }
   },
   "outputs": [],
   "source": [
    "df.createOrReplaceTempView(f'tv_{entityName}')"
   ]
  },
  {
   "cell_type": "code",
   "execution_count": 0,
   "metadata": {
    "application/vnd.databricks.v1+cell": {
     "cellMetadata": {
      "byteLimit": 2048000,
      "implicitDf": true,
      "rowLimit": 10000
     },
     "inputWidgets": {},
     "nuid": "9bb21ade-052e-408f-bdc5-1d804921b07b",
     "showTitle": true,
     "tableResultSettingsMap": {},
     "title": "TRANSFORM"
    }
   },
   "outputs": [],
   "source": [
    "# Cast data types:\n",
    "df = cast_data_types_transformation(columns, df)\n",
    "\n",
    "# Drop unwanted columns:\n",
    "df = drop_unwanted_columns_transformation(columns, df)\n",
    "\n",
    "# Drop duplicate values:\n",
    "df = drop_duplicates_transformation(df)"
   ]
  },
  {
   "cell_type": "code",
   "execution_count": 0,
   "metadata": {
    "application/vnd.databricks.v1+cell": {
     "cellMetadata": {
      "byteLimit": 2048000,
      "rowLimit": 10000
     },
     "inputWidgets": {},
     "nuid": "25814bcb-4fd7-4ea6-809e-d1ec9a9e3f58",
     "showTitle": true,
     "tableResultSettingsMap": {},
     "title": "Write"
    }
   },
   "outputs": [],
   "source": [
    "# Check data exists:\n",
    "if df.count() > 0:\n",
    "    # Set location for delta table:\n",
    "    location = f\"/{sourceSystemName}/{entityName}/{date_path}/\"\n",
    "    \n",
    "    # Write to delta table:\n",
    "    df.write.mode('overwrite').format('delta').option('header', 'true').save(SILVER + location)\n",
    "\n",
    "    # Output location:\n",
    "    dbutils.notebook.exit(location)\n",
    "else:\n",
    "    dbutils.notebook.exit(-1)"
   ]
  }
 ],
 "metadata": {
  "application/vnd.databricks.v1+notebook": {
   "computePreferences": null,
   "dashboards": [],
   "environmentMetadata": {
    "base_environment": "",
    "environment_version": "2"
   },
   "language": "python",
   "notebookMetadata": {
    "mostRecentlyExecutedCommandWithImplicitDF": {
     "commandId": -1,
     "dataframes": [
      "_sqldf"
     ]
    },
    "pythonIndentUnit": 4
   },
   "notebookName": "SILVER_AdventureWorks",
   "widgets": {
    "entityColumns": {
     "currentValue": "[{\"sortOrder\": 1, \"columnName\": \"SalesOrderNumber\", \"dataType\": \"varchar\"}, {\"sortOrder\": 2, \"columnName\": \"SalesOrderLineNumber\", \"dataType\": \"int\"}, {\"sortOrder\": 3, \"columnName\": \"OrderDate\", \"dataType\": \"date\"}, {\"sortOrder\": 4, \"columnName\": \"CustomerName\", \"dataType\": \"varchar\"}, {\"sortOrder\": 5, \"columnName\": \"EmailAddress\", \"dataType\": \"varchar\"}, {\"sortOrder\": 6, \"columnName\": \"Item\", \"dataType\": \"varchar\"}, {\"sortOrder\": 7, \"columnName\": \"Quantity\", \"dataType\": \"int\"}, {\"sortOrder\": 8, \"columnName\": \"UnitPrice\", \"dataType\": \"double\"}, {\"sortOrder\": 9, \"columnName\": \"TaxAmount\", \"dataType\": \"varchar\"}]",
     "nuid": "d2f340f1-4e1a-4233-a5b2-caa8b4fae773",
     "typedWidgetInfo": {
      "autoCreated": false,
      "defaultValue": "",
      "label": null,
      "name": "entityColumns",
      "options": {
       "widgetDisplayType": "Text",
       "validationRegex": null
      },
      "parameterDataType": "String"
     },
     "widgetInfo": {
      "widgetType": "text",
      "defaultValue": "",
      "label": null,
      "name": "entityColumns",
      "options": {
       "widgetType": "text",
       "autoCreated": null,
       "validationRegex": null
      }
     }
    },
    "entityName": {
     "currentValue": "customers",
     "nuid": "d3475e07-8a78-4890-98a1-afb93c7f3b81",
     "typedWidgetInfo": {
      "autoCreated": false,
      "defaultValue": "",
      "label": null,
      "name": "entityName",
      "options": {
       "widgetDisplayType": "Text",
       "validationRegex": null
      },
      "parameterDataType": "String"
     },
     "widgetInfo": {
      "widgetType": "text",
      "defaultValue": "",
      "label": null,
      "name": "entityName",
      "options": {
       "widgetType": "text",
       "autoCreated": null,
       "validationRegex": null
      }
     }
    },
    "sourceSystem": {
     "currentValue": "AdventureWorks",
     "nuid": "69ed627e-e355-440f-9861-e2c316692b0c",
     "typedWidgetInfo": {
      "autoCreated": false,
      "defaultValue": "",
      "label": null,
      "name": "sourceSystem",
      "options": {
       "widgetDisplayType": "Text",
       "validationRegex": null
      },
      "parameterDataType": "String"
     },
     "widgetInfo": {
      "widgetType": "text",
      "defaultValue": "",
      "label": null,
      "name": "sourceSystem",
      "options": {
       "widgetType": "text",
       "autoCreated": null,
       "validationRegex": null
      }
     }
    }
   }
  },
  "language_info": {
   "name": "python"
  }
 },
 "nbformat": 4,
 "nbformat_minor": 0
}
