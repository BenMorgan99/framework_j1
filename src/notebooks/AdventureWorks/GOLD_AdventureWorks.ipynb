{
 "cells": [
  {
   "cell_type": "code",
   "execution_count": 0,
   "metadata": {
    "application/vnd.databricks.v1+cell": {
     "cellMetadata": {
      "byteLimit": 2048000,
      "rowLimit": 10000
     },
     "inputWidgets": {},
     "nuid": "75997e0d-5040-4407-ad46-cab9145f088e",
     "showTitle": true,
     "tableResultSettingsMap": {},
     "title": "Configuration"
    }
   },
   "outputs": [],
   "source": [
    "%run \"./Configuration\""
   ]
  },
  {
   "cell_type": "code",
   "execution_count": 0,
   "metadata": {
    "application/vnd.databricks.v1+cell": {
     "cellMetadata": {
      "byteLimit": 2048000,
      "rowLimit": 10000
     },
     "inputWidgets": {},
     "nuid": "5475cc47-4bd0-407f-a2a3-b2e096c22179",
     "showTitle": true,
     "tableResultSettingsMap": {},
     "title": "Entity Names"
    }
   },
   "outputs": [],
   "source": [
    "# Define query to extract entityNames from sourceSystem table:\n",
    "query = f\"\"\"\n",
    "  SELECT entityNames\n",
    "  FROM   sourceSystem\n",
    "  WHERE  sourceSystemName = 'AdventureWorks'\n",
    "  \"\"\"\n",
    "\n",
    "# Call query_entityNames function and load json:\n",
    "entity_names = json.loads(query_entityNames(query))"
   ]
  },
  {
   "cell_type": "code",
   "execution_count": 0,
   "metadata": {
    "application/vnd.databricks.v1+cell": {
     "cellMetadata": {
      "byteLimit": 2048000,
      "rowLimit": 10000
     },
     "inputWidgets": {},
     "nuid": "d23153ea-fc87-4a31-aa1e-abdaa0901f82",
     "showTitle": true,
     "tableResultSettingsMap": {},
     "title": "Data Frames"
    }
   },
   "outputs": [],
   "source": [
    "# For each entity, create a dataFrame:\n",
    "for entity in entity_names:\n",
    "   # Read from SILVER path in metadata database:\n",
    "   globals()[f\"df_{entity}\"] = spark.read.format('delta').load(SILVER + entity_silver(entity))"
   ]
  },
  {
   "cell_type": "code",
   "execution_count": 0,
   "metadata": {
    "application/vnd.databricks.v1+cell": {
     "cellMetadata": {
      "byteLimit": 2048000,
      "rowLimit": 10000
     },
     "inputWidgets": {},
     "nuid": "5984d052-719e-4493-878b-8ed1385d71e1",
     "showTitle": true,
     "tableResultSettingsMap": {},
     "title": "Temp Views"
    }
   },
   "outputs": [],
   "source": [
    "# Iterate through entities to create temp views:\n",
    "for entity in entity_names:\n",
    "    # Create or replace tempView with nomenclature tv_design, tv_counterparty etc:\n",
    "    globals()[f'df_{entity}'].createOrReplaceTempView(f\"tv_{entity}\")"
   ]
  },
  {
   "cell_type": "code",
   "execution_count": 0,
   "metadata": {
    "application/vnd.databricks.v1+cell": {
     "cellMetadata": {
      "byteLimit": 2048000,
      "implicitDf": true,
      "rowLimit": 10000
     },
     "inputWidgets": {},
     "nuid": "1c6e4ac6-6174-4744-a04c-af9779e0b1e6",
     "showTitle": true,
     "tableResultSettingsMap": {},
     "title": "Order by UnitPrice"
    }
   },
   "outputs": [],
   "source": [
    "%sql\n",
    "SELECT SalesOrderNumber, CustomerName, OrderDate, Item, Quantity, UnitPrice \n",
    "FROM tv_customers\n",
    "ORDER BY UnitPrice DESC;"
   ]
  }
 ],
 "metadata": {
  "application/vnd.databricks.v1+notebook": {
   "computePreferences": null,
   "dashboards": [],
   "environmentMetadata": {
    "base_environment": "",
    "environment_version": "2"
   },
   "language": "python",
   "notebookMetadata": {
    "mostRecentlyExecutedCommandWithImplicitDF": {
     "commandId": 4979065918979928,
     "dataframes": [
      "_sqldf"
     ]
    },
    "pythonIndentUnit": 4
   },
   "notebookName": "GOLD_AdventureWorks",
   "widgets": {}
  },
  "language_info": {
   "name": "python"
  }
 },
 "nbformat": 4,
 "nbformat_minor": 0
}
