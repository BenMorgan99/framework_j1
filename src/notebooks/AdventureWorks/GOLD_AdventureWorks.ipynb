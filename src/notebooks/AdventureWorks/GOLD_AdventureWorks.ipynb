{
 "cells": [
  {
   "cell_type": "code",
   "execution_count": 0,
   "metadata": {
    "application/vnd.databricks.v1+cell": {
     "cellMetadata": {
      "byteLimit": 2048000,
      "rowLimit": 10000
     },
     "inputWidgets": {},
     "nuid": "75997e0d-5040-4407-ad46-cab9145f088e",
     "showTitle": true,
     "tableResultSettingsMap": {},
     "title": "Configuration"
    }
   },
   "outputs": [],
   "source": [
    "%run \"../Configuration\""
   ]
  },
  {
   "cell_type": "code",
   "execution_count": 0,
   "metadata": {
    "application/vnd.databricks.v1+cell": {
     "cellMetadata": {
      "byteLimit": 2048000,
      "rowLimit": 10000
     },
     "inputWidgets": {},
     "nuid": "d87d3385-1956-4830-962a-0c2502ee408f",
     "showTitle": false,
     "tableResultSettingsMap": {},
     "title": ""
    }
   },
   "outputs": [],
   "source": [
    "# Define the metadata widget:\n",
    "dbutils.widgets.text(\"entityName\", \"\")\n",
    "dbutils.widgets.text(\"sourceSystem\", \"\")\n",
    "\n",
    "# Save parameters to variables:\n",
    "entityName =       dbutils.widgets.get('entityName')\n",
    "sourceSystemName = dbutils.widgets.get('sourceSystem')"
   ]
  },
  {
   "cell_type": "code",
   "execution_count": 0,
   "metadata": {
    "application/vnd.databricks.v1+cell": {
     "cellMetadata": {
      "byteLimit": 2048000,
      "rowLimit": 10000
     },
     "inputWidgets": {},
     "nuid": "5475cc47-4bd0-407f-a2a3-b2e096c22179",
     "showTitle": true,
     "tableResultSettingsMap": {},
     "title": "Entity Names"
    }
   },
   "outputs": [],
   "source": [
    "# Define query to extract entityNames from sourceSystem table:\n",
    "query = f\"\"\"\n",
    "  SELECT entityNames\n",
    "  FROM   sourceSystem\n",
    "  WHERE  sourceSystemName = 'AdventureWorks'\n",
    "  \"\"\"\n",
    "\n",
    "# Call query_entityNames function and load json:\n",
    "entity_names = json.loads(query_entityNames(query))"
   ]
  },
  {
   "cell_type": "code",
   "execution_count": 0,
   "metadata": {
    "application/vnd.databricks.v1+cell": {
     "cellMetadata": {
      "byteLimit": 2048000,
      "rowLimit": 10000
     },
     "inputWidgets": {},
     "nuid": "b26e4509-3a60-467b-a31b-5092a401d49f",
     "showTitle": false,
     "tableResultSettingsMap": {},
     "title": ""
    }
   },
   "outputs": [],
   "source": [
    "print(entity_names)"
   ]
  },
  {
   "cell_type": "code",
   "execution_count": 0,
   "metadata": {
    "application/vnd.databricks.v1+cell": {
     "cellMetadata": {
      "byteLimit": 2048000,
      "rowLimit": 10000
     },
     "inputWidgets": {},
     "nuid": "d23153ea-fc87-4a31-aa1e-abdaa0901f82",
     "showTitle": true,
     "tableResultSettingsMap": {},
     "title": "Data Frames"
    }
   },
   "outputs": [],
   "source": [
    "# For each entity, create a dataFrame:\n",
    "for entity in entity_names:\n",
    "   # Read from SILVER path in metadata database:\n",
    "   globals()[f\"df_{entity}\"] = spark.read.format('delta').load(SILVER + entity_silver(entity))"
   ]
  },
  {
   "cell_type": "code",
   "execution_count": 0,
   "metadata": {
    "application/vnd.databricks.v1+cell": {
     "cellMetadata": {
      "byteLimit": 2048000,
      "rowLimit": 10000
     },
     "inputWidgets": {},
     "nuid": "5984d052-719e-4493-878b-8ed1385d71e1",
     "showTitle": true,
     "tableResultSettingsMap": {},
     "title": "Temp Views"
    }
   },
   "outputs": [],
   "source": [
    "# Iterate through entities to create temp views:\n",
    "for entity in entity_names:\n",
    "    # Create or replace tempView with nomenclature tv_design, tv_counterparty etc:\n",
    "    globals()[f'df_{entity}'].createOrReplaceTempView(f\"tv_{entity}\")"
   ]
  },
  {
   "cell_type": "code",
   "execution_count": 0,
   "metadata": {
    "application/vnd.databricks.v1+cell": {
     "cellMetadata": {
      "byteLimit": 2048000,
      "implicitDf": true,
      "rowLimit": 10000
     },
     "inputWidgets": {},
     "nuid": "f6db4ce1-a3a4-4884-a6ce-c872cc09e6be",
     "showTitle": true,
     "tableResultSettingsMap": {},
     "title": "dim_customer"
    }
   },
   "outputs": [],
   "source": [
    "if entityName == 'customer_AW':\n",
    "    query = \"\"\"\n",
    "    SELECT \n",
    "          customer_id\n",
    "        , SPLIT(CustomerName, ' ')[0] AS first_name\n",
    "        , SPLIT(CustomerName, ' ')[1] AS last_name\n",
    "        , EmailAddress\n",
    "    FROM tv_customer_AW;\n",
    "    \"\"\"\n",
    "    df = spark.sql(query)\n"
   ]
  },
  {
   "cell_type": "code",
   "execution_count": 0,
   "metadata": {
    "application/vnd.databricks.v1+cell": {
     "cellMetadata": {
      "byteLimit": 2048000,
      "implicitDf": true,
      "rowLimit": 10000
     },
     "inputWidgets": {},
     "nuid": "3ef5d6e9-5d35-433b-ab45-9a727b200832",
     "showTitle": true,
     "tableResultSettingsMap": {},
     "title": "dim_products"
    }
   },
   "outputs": [],
   "source": [
    "if entityName == 'products_AW':\n",
    "    query =  \"\"\"\n",
    "    SELECT \n",
    "      ProductID\n",
    "    , ProductName\n",
    "    , Category\n",
    "    , ListPrice\n",
    "    from tv_products_AW;\n",
    "    \"\"\"\n",
    "    df = spark.sql(query)\n"
   ]
  },
  {
   "cell_type": "code",
   "execution_count": 0,
   "metadata": {
    "application/vnd.databricks.v1+cell": {
     "cellMetadata": {
      "byteLimit": 2048000,
      "implicitDf": true,
      "rowLimit": 10000
     },
     "inputWidgets": {},
     "nuid": "6a2b375c-153c-4f9d-9047-6729634fff2d",
     "showTitle": false,
     "tableResultSettingsMap": {},
     "title": ""
    }
   },
   "outputs": [],
   "source": [
    "%sql\n",
    "SELECT * FROM tv_sales_order_AW"
   ]
  },
  {
   "cell_type": "code",
   "execution_count": 0,
   "metadata": {
    "application/vnd.databricks.v1+cell": {
     "cellMetadata": {
      "byteLimit": 2048000,
      "rowLimit": 10000
     },
     "inputWidgets": {},
     "nuid": "400b81b3-b2dc-4a35-b477-5e16ded4e5ba",
     "showTitle": true,
     "tableResultSettingsMap": {},
     "title": "fact_saleOrder"
    }
   },
   "outputs": [],
   "source": [
    "if entityName == 'sales_order_AW':\n",
    "    query =  \"\"\"SELECT\n",
    "      tso.SalesOrderNumber AS order_id\n",
    "    , tso.OrderDate AS order_date\n",
    "    , tca.customer_id as customer_id\n",
    "    , tpa.ProductID AS product_id\n",
    "    , tpa.ListPrice AS product_price\n",
    "    , tso.UnitPrice AS unit_price\n",
    "    , tso.TaxAmount as tax_amount\n",
    "    , tso.UnitPrice + tso.TaxAmount AS total_sale \n",
    "\n",
    "    FROM tv_sales_order_AW tso\n",
    "    JOIN tv_customer_AW tca ON tso.EmailAddress = tca.EmailAddress\n",
    "    JOIN tv_products_AW tpa ON tso.Item = tpa.ProductName AND tso.UnitPrice = tpa.ListPrice\n",
    "    \"\"\"\n",
    "    df = spark.sql(query)\n"
   ]
  },
  {
   "cell_type": "code",
   "execution_count": 0,
   "metadata": {
    "application/vnd.databricks.v1+cell": {
     "cellMetadata": {
      "byteLimit": 2048000,
      "rowLimit": 10000
     },
     "inputWidgets": {},
     "nuid": "68d066a1-9317-42a0-a6cf-1f73270e45f2",
     "showTitle": true,
     "tableResultSettingsMap": {},
     "title": "Write Delta"
    }
   },
   "outputs": [],
   "source": [
    "# Check data exists:\n",
    "if df.count() > 0:\n",
    "    # Set location for delta table:\n",
    "    file_path = f\"/{sourceSystemName}/{entityName}\"\n",
    "    \n",
    "    # Write to delta table:\n",
    "    df.write.mode('overwrite').format('delta').option('header', 'true').save(GOLD + file_path)\n",
    "\n",
    "    # Output file_path:\n",
    "    dbutils.notebook.exit(file_path)"
   ]
  }
 ],
 "metadata": {
  "application/vnd.databricks.v1+notebook": {
   "computePreferences": null,
   "dashboards": [],
   "environmentMetadata": {
    "base_environment": "",
    "environment_version": "2"
   },
   "inputWidgetPreferences": null,
   "language": "python",
   "notebookMetadata": {
    "mostRecentlyExecutedCommandWithImplicitDF": {
     "commandId": 6034080438032219,
     "dataframes": [
      "_sqldf"
     ]
    },
    "pythonIndentUnit": 4
   },
   "notebookName": "GOLD_AdventureWorks",
   "widgets": {
    "entityName": {
     "currentValue": "sales_order_AW",
     "nuid": "41e1a92f-b531-41dc-a866-4cfa76333d7e",
     "typedWidgetInfo": {
      "autoCreated": false,
      "defaultValue": "",
      "label": null,
      "name": "entityName",
      "options": {
       "widgetDisplayType": "Text",
       "validationRegex": null
      },
      "parameterDataType": "String"
     },
     "widgetInfo": {
      "widgetType": "text",
      "defaultValue": "",
      "label": null,
      "name": "entityName",
      "options": {
       "widgetType": "text",
       "autoCreated": null,
       "validationRegex": null
      }
     }
    },
    "sourceSystem": {
     "currentValue": "AdventureWorks",
     "nuid": "fa6938b0-ae5f-44a0-9430-d33a2da4e673",
     "typedWidgetInfo": {
      "autoCreated": false,
      "defaultValue": "",
      "label": null,
      "name": "sourceSystem",
      "options": {
       "widgetDisplayType": "Text",
       "validationRegex": null
      },
      "parameterDataType": "String"
     },
     "widgetInfo": {
      "widgetType": "text",
      "defaultValue": "",
      "label": null,
      "name": "sourceSystem",
      "options": {
       "widgetType": "text",
       "autoCreated": null,
       "validationRegex": null
      }
     }
    }
   }
  },
  "language_info": {
   "name": "python"
  }
 },
 "nbformat": 4,
 "nbformat_minor": 0
}
