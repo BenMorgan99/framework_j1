{
 "cells": [
  {
   "cell_type": "code",
   "execution_count": 0,
   "metadata": {
    "application/vnd.databricks.v1+cell": {
     "cellMetadata": {
      "byteLimit": 2048000,
      "rowLimit": 10000
     },
     "inputWidgets": {},
     "nuid": "efc74b97-5d97-4604-9960-b9cb285f4f13",
     "showTitle": false,
     "tableResultSettingsMap": {},
     "title": ""
    }
   },
   "outputs": [],
   "source": [
    "%run \"../Configuration\""
   ]
  },
  {
   "cell_type": "code",
   "execution_count": 0,
   "metadata": {
    "application/vnd.databricks.v1+cell": {
     "cellMetadata": {
      "byteLimit": 2048000,
      "rowLimit": 10000
     },
     "inputWidgets": {},
     "nuid": "82d6f800-9d0c-4797-94a4-e9c8eb4eefe5",
     "showTitle": true,
     "tableResultSettingsMap": {},
     "title": "Variables"
    }
   },
   "outputs": [],
   "source": [
    "# Create the widgets:\n",
    "dbutils.widgets.text(\"entityName\", \"\")\n",
    "dbutils.widgets.text(\"entitySourceQuery\", \"\")\n",
    "dbutils.widgets.text(\"sourceSystem\", \"\")\n",
    "\n",
    "# Save widget parameters to variables:\n",
    "entityName = dbutils.widgets.get('entityName')\n",
    "connection = json.loads(dbutils.widgets.get('entitySourceQuery'))\n",
    "sourceSystemName = dbutils.widgets.get('sourceSystem')\n",
    "\n",
    "# Access query from connection:\n",
    "query = connection['sourceQuery']"
   ]
  },
  {
   "cell_type": "code",
   "execution_count": 0,
   "metadata": {
    "application/vnd.databricks.v1+cell": {
     "cellMetadata": {
      "byteLimit": 2048000,
      "rowLimit": 10000
     },
     "inputWidgets": {},
     "nuid": "70d34f72-fd73-414d-9503-c4986a52db69",
     "showTitle": true,
     "tableResultSettingsMap": {},
     "title": "URL"
    }
   },
   "outputs": [],
   "source": [
    "# Access url from connection:\n",
    "# <Dynamically enter missing url here>\n",
    "\n"
   ]
  },
  {
   "cell_type": "code",
   "execution_count": 0,
   "metadata": {
    "application/vnd.databricks.v1+cell": {
     "cellMetadata": {
      "byteLimit": 2048000,
      "rowLimit": 10000
     },
     "inputWidgets": {},
     "nuid": "faeed9ec-8d0b-4b6e-aea4-5a05e96262d7",
     "showTitle": true,
     "tableResultSettingsMap": {},
     "title": "AdventureWorks DF"
    }
   },
   "outputs": [],
   "source": [
    "# Check source system:\n",
    "if sourceSystemName == 'AdventureW0rks':\n",
    "    \n",
    "    # Get the CSV file content as a string:\n",
    "    response = requests.get(url)"
   ]
  },
  {
   "cell_type": "code",
   "execution_count": 0,
   "metadata": {
    "application/vnd.databricks.v1+cell": {
     "cellMetadata": {
      "byteLimit": 2048000,
      "rowLimit": 10000
     },
     "inputWidgets": {},
     "nuid": "85b42151-1412-46bf-b9ec-43378af4db35",
     "showTitle": true,
     "tableResultSettingsMap": {},
     "title": "Write"
    }
   },
   "outputs": [],
   "source": [
    "# Check data exists:\n",
    "if response:\n",
    "    # Define file path and filename (as .csv):\n",
    "    file_path = f\"/{sourceSystemName}/{entityName}/{date_path}/{entityName}.csv\"\n",
    "    \n",
    "    # Set location for csv:\n",
    "    location = BRONZE + file_path \n",
    "    \n",
    "    # Write CSV to data lake:\n",
    "    dbutils.fs.put(location, response.content.decode('utf-8'), overwrite=True)\n"
   ]
  },
  {
   "cell_type": "code",
   "execution_count": 0,
   "metadata": {
    "application/vnd.databricks.v1+cell": {
     "cellMetadata": {
      "byteLimit": 2048000,
      "rowLimit": 10000
     },
     "inputWidgets": {},
     "nuid": "10289003-462e-45bd-8527-da73a39666ad",
     "showTitle": true,
     "tableResultSettingsMap": {},
     "title": "Exit"
    }
   },
   "outputs": [],
   "source": [
    "# Output file path for entity:\n",
    "dbutils.notebook.exit('file_path') "
   ]
  }
 ],
 "metadata": {
  "application/vnd.databricks.v1+notebook": {
   "computePreferences": null,
   "dashboards": [],
   "environmentMetadata": {
    "base_environment": "",
    "environment_version": "2"
   },
   "inputWidgetPreferences": null,
   "language": "python",
   "notebookMetadata": {
    "mostRecentlyExecutedCommandWithImplicitDF": {
     "commandId": -1,
     "dataframes": [
      "_sqldf"
     ]
    },
    "pythonIndentUnit": 4
   },
   "notebookName": "BRONZE_AdventureWorks",
   "widgets": {
    "entityName": {
     "currentValue": "products_AW",
     "nuid": "16003a79-15f2-4711-8a02-45d014a60007",
     "typedWidgetInfo": {
      "autoCreated": false,
      "defaultValue": "",
      "label": null,
      "name": "entityName",
      "options": {
       "widgetDisplayType": "Text",
       "validationRegex": null
      },
      "parameterDataType": "String"
     },
     "widgetInfo": {
      "widgetType": "text",
      "defaultValue": "",
      "label": null,
      "name": "entityName",
      "options": {
       "widgetType": "text",
       "autoCreated": null,
       "validationRegex": null
      }
     }
    },
    "entitySourceQuery": {
     "currentValue": "{\"connectionString\": \"https://raw.githubusercontent.com/MicrosoftLearning/dp-203-azure-data-engineer/master/Allfiles/labs/01/adventureworks/products.csv\", \"sourceQuery\": \"None\"}",
     "nuid": "6d94dc50-2775-4d2d-9ff3-031ae29caf7b",
     "typedWidgetInfo": {
      "autoCreated": false,
      "defaultValue": "",
      "label": null,
      "name": "entitySourceQuery",
      "options": {
       "widgetDisplayType": "Text",
       "validationRegex": null
      },
      "parameterDataType": "String"
     },
     "widgetInfo": {
      "widgetType": "text",
      "defaultValue": "",
      "label": null,
      "name": "entitySourceQuery",
      "options": {
       "widgetType": "text",
       "autoCreated": null,
       "validationRegex": null
      }
     }
    },
    "sourceSystem": {
     "currentValue": "AdventureWorks",
     "nuid": "9d9b4af3-6fae-48cd-b8c3-d4584764c24e",
     "typedWidgetInfo": {
      "autoCreated": false,
      "defaultValue": "",
      "label": null,
      "name": "sourceSystem",
      "options": {
       "widgetDisplayType": "Text",
       "validationRegex": null
      },
      "parameterDataType": "String"
     },
     "widgetInfo": {
      "widgetType": "text",
      "defaultValue": "",
      "label": null,
      "name": "sourceSystem",
      "options": {
       "widgetType": "text",
       "autoCreated": null,
       "validationRegex": null
      }
     }
    }
   }
  },
  "language_info": {
   "name": "python"
  }
 },
 "nbformat": 4,
 "nbformat_minor": 0
}
