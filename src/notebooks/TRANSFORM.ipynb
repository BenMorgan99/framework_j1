{
 "cells": [
  {
   "cell_type": "code",
   "execution_count": 0,
   "metadata": {
    "application/vnd.databricks.v1+cell": {
     "cellMetadata": {
      "byteLimit": 2048000,
      "rowLimit": 10000
     },
     "inputWidgets": {},
     "nuid": "68ed2afa-742a-4956-b22f-e9424f4d5560",
     "showTitle": true,
     "tableResultSettingsMap": {},
     "title": "Setup"
    }
   },
   "outputs": [],
   "source": [
    "%run \"./Configuration\""
   ]
  },
  {
   "cell_type": "code",
   "execution_count": 0,
   "metadata": {
    "application/vnd.databricks.v1+cell": {
     "cellMetadata": {
      "byteLimit": 2048000,
      "rowLimit": 10000
     },
     "inputWidgets": {},
     "nuid": "7f526f27-721d-4199-8bf2-7fc2e50f7351",
     "showTitle": true,
     "tableResultSettingsMap": {},
     "title": "Variables"
    }
   },
   "outputs": [],
   "source": [
    "# Define the metadata widget:\n",
    "dbutils.widgets.text(\"entityName\", \"\")\n",
    "dbutils.widgets.text(\"fileLocation\", \"\")\n",
    "dbutils.widgets.text(\"entityColumns\", \"\")\n",
    "\n",
    "# Save the parameter to a variable:\n",
    "entityName =    dbutils.widgets.get('entityName')\n",
    "file_location = dbutils.widgets.get('fileLocation')[66:]\n",
    "columns =       dbutils.widgets.get('entityColumns')\n",
    "\n",
    "# Replace uppercase False/True with lowercase:\n",
    "columns = columns.replace('False', 'false').replace('True', 'true')\n",
    "\n",
    "# Define location of the raw data:\n",
    "parquet_path = RAW + f\"{file_location}\""
   ]
  },
  {
   "cell_type": "code",
   "execution_count": 0,
   "metadata": {
    "application/vnd.databricks.v1+cell": {
     "cellMetadata": {
      "byteLimit": 2048000,
      "rowLimit": 10000
     },
     "inputWidgets": {},
     "nuid": "b9b14e3f-93be-47c0-89cb-bda650b49d4c",
     "showTitle": true,
     "tableResultSettingsMap": {},
     "title": "Struct Objects"
    }
   },
   "outputs": [],
   "source": [
    "# Load the column data as a JSON:\n",
    "json_cols = json.loads(columns)\n",
    "\n",
    "# Dictionary to map column data types to spark data types:\n",
    "data_type = {'int': IntegerType(), 'varchar': StringType(), 'double': DoubleType()}\n",
    "\n",
    "# Iterate through JSON to create spark schema:\n",
    "schema = StructType([StructField(col['columnName'], data_type[col['dataType']['name']], nullable=False) for col in json_cols])\n",
    "\n",
    "# Read RAW data with schema:\n",
    "df = spark.read.schema(schema).parquet(parquet_path)"
   ]
  }
 ],
 "metadata": {
  "application/vnd.databricks.v1+notebook": {
   "computePreferences": null,
   "dashboards": [],
   "environmentMetadata": {
    "base_environment": "",
    "environment_version": "2"
   },
   "language": "python",
   "notebookMetadata": {
    "pythonIndentUnit": 4
   },
   "notebookName": "TRANSFORM",
   "widgets": {
    "entityColumns": {
     "currentValue": "[{\"sortOrder\": 1, \"columnName\": \"ProductID\", \"dataType\": {\"name\": \"int\", \"isNullable\": False}, \"isPrimaryKey\": True, \"isNaturalKey\": True, \"dataClassification\": {\"classification\": \"General\"}}, {\"sortOrder\": 2, \"columnName\": \"ProductName\", \"dataType\": {\"name\": \"varchar\", \"length\": 100, \"isNullable\": True}, \"isPrimaryKey\": False, \"isNaturalKey\": False, \"dataClassification\": {\"classification\": \"General\", \"isPII\": True, \"pIIReplacementValue\": \"DefaultStringMasking\"}}, {\"sortOrder\": 3, \"columnName\": \"Category\", \"dataType\": {\"name\": \"varchar\", \"length\": 100, \"isNullable\": True}, \"isPrimaryKey\": False, \"isNaturalKey\": False, \"dataClassification\": {\"classification\": \"General\"}}, {\"sortOrder\": 4, \"columnName\": \"ListPrice\", \"dataType\": {\"name\": \"double\", \"length\": 100, \"isNullable\": True}, \"isPrimaryKey\": False, \"isNaturalKey\": False, \"dataClassification\": {\"classification\": \"General\"}}]",
     "nuid": "6d915c8c-286f-4366-b934-cd7ad8a470b0",
     "typedWidgetInfo": {
      "autoCreated": false,
      "defaultValue": "",
      "label": null,
      "name": "entityColumns",
      "options": {
       "widgetDisplayType": "Text",
       "validationRegex": null
      },
      "parameterDataType": "String"
     },
     "widgetInfo": {
      "widgetType": "text",
      "defaultValue": "",
      "label": null,
      "name": "entityColumns",
      "options": {
       "widgetType": "text",
       "autoCreated": null,
       "validationRegex": null
      }
     }
    },
    "entityName": {
     "currentValue": "customers",
     "nuid": "b15e8492-db7c-46ef-98e8-af8a415a3d95",
     "typedWidgetInfo": {
      "autoCreated": false,
      "defaultValue": "",
      "label": null,
      "name": "entityName",
      "options": {
       "widgetDisplayType": "Text",
       "validationRegex": null
      },
      "parameterDataType": "String"
     },
     "widgetInfo": {
      "widgetType": "text",
      "defaultValue": "",
      "label": null,
      "name": "entityName",
      "options": {
       "widgetType": "text",
       "autoCreated": null,
       "validationRegex": null
      }
     }
    },
    "entitySourceQuery": {
     "currentValue": "https://raw.githubusercontent.com/MicrosoftLearning/dp-203-azure-data-engineer/refs/heads/master/Allfiles/labs/03/data/2020.csv",
     "nuid": "103e3830-d997-4f6e-b597-94ca25cd5809",
     "typedWidgetInfo": {
      "autoCreated": false,
      "defaultValue": "",
      "label": null,
      "name": "entitySourceQuery",
      "options": {
       "widgetDisplayType": "Text",
       "validationRegex": null
      },
      "parameterDataType": "String"
     },
     "widgetInfo": {
      "widgetType": "text",
      "defaultValue": "",
      "label": null,
      "name": "entitySourceQuery",
      "options": {
       "widgetType": "text",
       "autoCreated": null,
       "validationRegex": null
      }
     }
    },
    "fileLocation": {
     "currentValue": "abfss://carbonone@[REDACTED].dfs.core.windows.net/framework-j1/RAW/AdventureWorks/products/2025/02/05/",
     "nuid": "9e8bef1f-81c0-4749-912a-0e69afadca6f",
     "typedWidgetInfo": {
      "autoCreated": false,
      "defaultValue": "",
      "label": null,
      "name": "fileLocation",
      "options": {
       "widgetDisplayType": "Text",
       "validationRegex": null
      },
      "parameterDataType": "String"
     },
     "widgetInfo": {
      "widgetType": "text",
      "defaultValue": "",
      "label": null,
      "name": "fileLocation",
      "options": {
       "widgetType": "text",
       "autoCreated": null,
       "validationRegex": null
      }
     }
    }
   }
  },
  "language_info": {
   "name": "python"
  }
 },
 "nbformat": 4,
 "nbformat_minor": 0
}
