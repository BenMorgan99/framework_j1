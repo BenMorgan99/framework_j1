{
 "cells": [
  {
   "cell_type": "code",
   "execution_count": 0,
   "metadata": {
    "application/vnd.databricks.v1+cell": {
     "cellMetadata": {
      "byteLimit": 2048000,
      "rowLimit": 10000
     },
     "inputWidgets": {},
     "nuid": "68ed2afa-742a-4956-b22f-e9424f4d5560",
     "showTitle": true,
     "tableResultSettingsMap": {},
     "title": "Setup"
    }
   },
   "outputs": [],
   "source": [
    "%run \"./Configuration\""
   ]
  },
  {
   "cell_type": "code",
   "execution_count": 0,
   "metadata": {
    "application/vnd.databricks.v1+cell": {
     "cellMetadata": {
      "byteLimit": 2048000,
      "rowLimit": 10000
     },
     "inputWidgets": {},
     "nuid": "7f526f27-721d-4199-8bf2-7fc2e50f7351",
     "showTitle": true,
     "tableResultSettingsMap": {},
     "title": "Variables"
    }
   },
   "outputs": [],
   "source": [
    "# Define the metadata widget:\n",
    "dbutils.widgets.text(\"entityName\", \"\")\n",
    "dbutils.widgets.text(\"fileLocation\", \"\")\n",
    "dbutils.widgets.text(\"entityColumns\", \"\")\n",
    "\n",
    "# Save the parameter to a variable:\n",
    "entityName =    dbutils.widgets.get('entityName')\n",
    "file_location = dbutils.widgets.get('fileLocation')[66:]\n",
    "columns =       dbutils.widgets.get('entityColumns')\n",
    "\n",
    "# Replace uppercase False/True with lowercase:\n",
    "columns = columns.replace('False', 'false').replace('True', 'true')\n",
    "\n",
    "# Define location of the raw data:\n",
    "parquet_path = RAW + f\"{file_location}\""
   ]
  },
  {
   "cell_type": "code",
   "execution_count": 0,
   "metadata": {
    "application/vnd.databricks.v1+cell": {
     "cellMetadata": {
      "byteLimit": 2048000,
      "rowLimit": 10000
     },
     "inputWidgets": {},
     "nuid": "b9b14e3f-93be-47c0-89cb-bda650b49d4c",
     "showTitle": true,
     "tableResultSettingsMap": {},
     "title": "AdventureWorks"
    }
   },
   "outputs": [],
   "source": [
    "if entityName in ['customers', 'products']:\n",
    "    # Load the column data as a JSON:\n",
    "    json_cols = json.loads(columns)\n",
    "\n",
    "    # Dictionary to map column data types to spark data types:\n",
    "    data_type = {'int': 'integer', 'varchar': 'string', 'double': 'double', 'date': 'date'}\n",
    "\n",
    "    # Read RAW data with schema:\n",
    "    df = spark.read.parquet(parquet_path)\n",
    "\n",
    "    # Iterate through columns and cast correct data type:\n",
    "    for col in json_cols:\n",
    "        df = df.withColumn(col['columnName'], df[col['columnName']].cast(data_type[col['dataType']['name']]))"
   ]
  },
  {
   "cell_type": "code",
   "execution_count": 0,
   "metadata": {
    "application/vnd.databricks.v1+cell": {
     "cellMetadata": {
      "byteLimit": 2048000,
      "rowLimit": 10000
     },
     "inputWidgets": {},
     "nuid": "0a69a2b4-bf8a-4870-ae4b-0e8fbc538584",
     "showTitle": true,
     "tableResultSettingsMap": {},
     "title": "DataLake"
    }
   },
   "outputs": [],
   "source": [
    "# Check there is data in the dataframe\n",
    "if df.count() > 0:\n",
    "    # Define path to write dataframe to:\n",
    "    transform_path = TRANSFORM +  f\"{file_location}\"\n",
    "    \n",
    "    # Write dataframe:\n",
    "    df.write.mode('overwrite').parquet(transform_path)\n",
    "\n",
    "    # Output file_path:\n",
    "    dbutils.notebook.exit(transform_path)\n",
    "\n"
   ]
  }
 ],
 "metadata": {
  "application/vnd.databricks.v1+notebook": {
   "computePreferences": null,
   "dashboards": [],
   "environmentMetadata": {
    "base_environment": "",
    "environment_version": "2"
   },
   "language": "python",
   "notebookMetadata": {
    "pythonIndentUnit": 4
   },
   "notebookName": "TRANSFORM",
   "widgets": {
    "entityColumns": {
     "currentValue": "[{\"sortOrder\": 1, \"columnName\": \"SalesOrderNumber\", \"dataType\": {\"name\": \"int\", \"isNullable\": False}}, {\"sortOrder\": 2, \"columnName\": \"SalesOrderLineNumber\", \"dataType\": {\"name\": \"int\"}}, {\"sortOrder\": 3, \"columnName\": \"OrderDate\", \"dataType\": {\"name\": \"date\"}}, {\"sortOrder\": 4, \"columnName\": \"CustomerName\", \"dataType\": {\"name\": \"varchar\"}}, {\"sortOrder\": 5, \"columnName\": \"EmailAddress\", \"dataType\": {\"name\": \"varchar\"}}, {\"sortOrder\": 6, \"columnName\": \"Item\", \"dataType\": {\"name\": \"varchar\"}}, {\"sortOrder\": 7, \"columnName\": \"Quantity\", \"dataType\": {\"name\": \"int\"}}, {\"sortOrder\": 8, \"columnName\": \"UnitPrice\", \"dataType\": {\"name\": \"double\"}}, {\"sortOrder\": 9, \"columnName\": \"TaxAmount\", \"dataType\": {\"name\": \"varchar\"}}]",
     "nuid": "6d915c8c-286f-4366-b934-cd7ad8a470b0",
     "typedWidgetInfo": {
      "autoCreated": false,
      "defaultValue": "",
      "label": null,
      "name": "entityColumns",
      "options": {
       "widgetDisplayType": "Text",
       "validationRegex": null
      },
      "parameterDataType": "String"
     },
     "widgetInfo": {
      "widgetType": "text",
      "defaultValue": "",
      "label": null,
      "name": "entityColumns",
      "options": {
       "widgetType": "text",
       "autoCreated": null,
       "validationRegex": null
      }
     }
    },
    "entityName": {
     "currentValue": "customers",
     "nuid": "b15e8492-db7c-46ef-98e8-af8a415a3d95",
     "typedWidgetInfo": {
      "autoCreated": false,
      "defaultValue": "",
      "label": null,
      "name": "entityName",
      "options": {
       "widgetDisplayType": "Text",
       "validationRegex": null
      },
      "parameterDataType": "String"
     },
     "widgetInfo": {
      "widgetType": "text",
      "defaultValue": "",
      "label": null,
      "name": "entityName",
      "options": {
       "widgetType": "text",
       "autoCreated": null,
       "validationRegex": null
      }
     }
    },
    "fileLocation": {
     "currentValue": "abfss://carbonone@[REDACTED].dfs.core.windows.net/framework-j1/RAW/AdventureWorks/customers/2025/02/05/",
     "nuid": "9e8bef1f-81c0-4749-912a-0e69afadca6f",
     "typedWidgetInfo": {
      "autoCreated": false,
      "defaultValue": "",
      "label": null,
      "name": "fileLocation",
      "options": {
       "widgetDisplayType": "Text",
       "validationRegex": null
      },
      "parameterDataType": "String"
     },
     "widgetInfo": {
      "widgetType": "text",
      "defaultValue": "",
      "label": null,
      "name": "fileLocation",
      "options": {
       "widgetType": "text",
       "autoCreated": null,
       "validationRegex": null
      }
     }
    }
   }
  },
  "language_info": {
   "name": "python"
  }
 },
 "nbformat": 4,
 "nbformat_minor": 0
}
