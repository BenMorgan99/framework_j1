{
 "cells": [
  {
   "cell_type": "code",
   "execution_count": 0,
   "metadata": {
    "application/vnd.databricks.v1+cell": {
     "cellMetadata": {
      "byteLimit": 2048000,
      "rowLimit": 10000
     },
     "inputWidgets": {},
     "nuid": "68ed2afa-742a-4956-b22f-e9424f4d5560",
     "showTitle": true,
     "tableResultSettingsMap": {},
     "title": "Setup"
    }
   },
   "outputs": [],
   "source": [
    "%run \"./Configuration\""
   ]
  },
  {
   "cell_type": "code",
   "execution_count": 0,
   "metadata": {
    "application/vnd.databricks.v1+cell": {
     "cellMetadata": {
      "byteLimit": 2048000,
      "rowLimit": 10000
     },
     "inputWidgets": {},
     "nuid": "7f526f27-721d-4199-8bf2-7fc2e50f7351",
     "showTitle": false,
     "tableResultSettingsMap": {},
     "title": ""
    }
   },
   "outputs": [],
   "source": [
    "# Define the metadata widget:\n",
    "dbutils.widgets.text(\"entityName\", \"\")\n",
    "dbutils.widgets.text(\"parquetLocation\", \"\")\n",
    "dbutils.widgets.text(\"entityColumns\", \"\")\n",
    "\n",
    "# Save the parameter to a variable:\n",
    "entityName = dbutils.widgets.get('entityName')\n",
    "url =        dbutils.widgets.get('parquetLocation')\n",
    "columns =    dbutils.widgets.get('entityColumns')"
   ]
  },
  {
   "cell_type": "code",
   "execution_count": 0,
   "metadata": {
    "application/vnd.databricks.v1+cell": {
     "cellMetadata": {},
     "inputWidgets": {},
     "nuid": "b1e12126-6bf3-441e-935a-0c69a9ecde5b",
     "showTitle": false,
     "tableResultSettingsMap": {},
     "title": ""
    }
   },
   "outputs": [],
   "source": [
    "print('Hello world')"
   ]
  }
 ],
 "metadata": {
  "application/vnd.databricks.v1+notebook": {
   "computePreferences": null,
   "dashboards": [],
   "environmentMetadata": {
    "base_environment": "",
    "environment_version": "2"
   },
   "language": "python",
   "notebookMetadata": {
    "pythonIndentUnit": 4
   },
   "notebookName": "TRANSFORM",
   "widgets": {
    "entityColumns": {
     "currentValue": "[{sortOrder: 1, columnName: ProductID, dataType: {name: int, isNullable: False}, isPrimaryKey: True, isNaturalKey: True, dataClassification: {classification: General}}, {sortOrder: 2, columnName: ProductName, dataType: {name: varchar, length: 100, isNullable: True}, isPrimaryKey: False, isNaturalKey: False, dataClassification: {classification: General, isPII: True, pIIReplacementValue: DefaultStringMasking}}, {sortOrder: 3, columnName: Category, dataType: {name: varchar, length: 100, isNullable: True}, isPrimaryKey: False, isNaturalKey: False, dataClassification: {classification: General}}, {sortOrder: 4, columnName: ListPrice, dataType: {name: varchar, length: 100, isNullable: True}, isPrimaryKey: False, isNaturalKey: False, dataClassification: {classification: General}}]",
     "nuid": "6d915c8c-286f-4366-b934-cd7ad8a470b0",
     "typedWidgetInfo": {
      "autoCreated": false,
      "defaultValue": "",
      "label": null,
      "name": "entityColumns",
      "options": {
       "widgetDisplayType": "Text",
       "validationRegex": null
      },
      "parameterDataType": "String"
     },
     "widgetInfo": {
      "widgetType": "text",
      "defaultValue": "",
      "label": null,
      "name": "entityColumns",
      "options": {
       "widgetType": "text",
       "autoCreated": null,
       "validationRegex": null
      }
     }
    },
    "entityName": {
     "currentValue": "customers",
     "nuid": "b15e8492-db7c-46ef-98e8-af8a415a3d95",
     "typedWidgetInfo": {
      "autoCreated": false,
      "defaultValue": "",
      "label": null,
      "name": "entityName",
      "options": {
       "widgetDisplayType": "Text",
       "validationRegex": null
      },
      "parameterDataType": "String"
     },
     "widgetInfo": {
      "widgetType": "text",
      "defaultValue": "",
      "label": null,
      "name": "entityName",
      "options": {
       "widgetType": "text",
       "autoCreated": null,
       "validationRegex": null
      }
     }
    },
    "entitySourceQuery": {
     "currentValue": "https://raw.githubusercontent.com/MicrosoftLearning/dp-203-azure-data-engineer/refs/heads/master/Allfiles/labs/03/data/2020.csv",
     "nuid": "103e3830-d997-4f6e-b597-94ca25cd5809",
     "typedWidgetInfo": {
      "autoCreated": false,
      "defaultValue": "",
      "label": null,
      "name": "entitySourceQuery",
      "options": {
       "widgetDisplayType": "Text",
       "validationRegex": null
      },
      "parameterDataType": "String"
     },
     "widgetInfo": {
      "widgetType": "text",
      "defaultValue": "",
      "label": null,
      "name": "entitySourceQuery",
      "options": {
       "widgetType": "text",
       "autoCreated": null,
       "validationRegex": null
      }
     }
    }
   }
  },
  "language_info": {
   "name": "python"
  }
 },
 "nbformat": 4,
 "nbformat_minor": 0
}
