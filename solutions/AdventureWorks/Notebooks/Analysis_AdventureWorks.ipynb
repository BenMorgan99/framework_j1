{
 "cells": [
  {
   "cell_type": "code",
   "execution_count": 0,
   "metadata": {
    "application/vnd.databricks.v1+cell": {
     "cellMetadata": {
      "byteLimit": 2048000,
      "rowLimit": 10000
     },
     "inputWidgets": {},
     "nuid": "744f77b0-8dd5-494e-9e03-1619e21bed90",
     "showTitle": true,
     "tableResultSettingsMap": {},
     "title": "Configuration"
    }
   },
   "outputs": [],
   "source": [
    "%run \"../Configuration\""
   ]
  },
  {
   "cell_type": "code",
   "execution_count": 0,
   "metadata": {
    "application/vnd.databricks.v1+cell": {
     "cellMetadata": {
      "byteLimit": 2048000,
      "rowLimit": 10000
     },
     "inputWidgets": {},
     "nuid": "9bb7a1ee-fd98-4316-b512-0a39c15fd0d3",
     "showTitle": true,
     "tableResultSettingsMap": {},
     "title": "entityNames"
    }
   },
   "outputs": [],
   "source": [
    "# Define query to extract entityNames from sourceSystem table:\n",
    "query = f\"\"\"\n",
    "  SELECT entityNames\n",
    "  FROM   sourceSystem\n",
    "  WHERE  sourceSystemName = 'AdventureWorks'\n",
    "  \"\"\"\n",
    "\n",
    "# Call query_entityNames function and load json:\n",
    "entity_names = json.loads(query_entityNames(query))"
   ]
  },
  {
   "cell_type": "code",
   "execution_count": 0,
   "metadata": {
    "application/vnd.databricks.v1+cell": {
     "cellMetadata": {
      "byteLimit": 2048000,
      "rowLimit": 10000
     },
     "inputWidgets": {},
     "nuid": "224c262c-96a3-4b4c-bd79-f9ade23a196c",
     "showTitle": true,
     "tableResultSettingsMap": {},
     "title": "DataFrames & Temp Views"
    }
   },
   "outputs": [],
   "source": [
    "# Function to create dataframes and temp views from entity names:\n",
    "create_dataframes_temp_views(entity_names, 'GOLD')"
   ]
  },
  {
   "cell_type": "code",
   "execution_count": 0,
   "metadata": {
    "application/vnd.databricks.v1+cell": {
     "cellMetadata": {
      "byteLimit": 2048000,
      "implicitDf": true,
      "rowLimit": 10000
     },
     "inputWidgets": {},
     "nuid": "0276cbc0-dbf6-4d8c-848c-eb0d915d99d5",
     "showTitle": true,
     "tableResultSettingsMap": {},
     "title": "Email Address"
    }
   },
   "outputs": [],
   "source": [
    "%sql\n",
    "SELECT first_name, last_name, \n",
    "       COLLECT_SET(EmailAddress) AS email_addresses,\n",
    "       COUNT(DISTINCT EmailAddress) AS unique_email_count\n",
    "FROM tv_dim_customer_AW\n",
    "GROUP BY first_name, last_name\n",
    "HAVING unique_email_count > 1\n",
    "ORDER BY first_name, last_name;"
   ]
  },
  {
   "cell_type": "code",
   "execution_count": 0,
   "metadata": {
    "application/vnd.databricks.v1+cell": {
     "cellMetadata": {
      "byteLimit": 2048000,
      "implicitDf": true,
      "rowLimit": 10000
     },
     "inputWidgets": {},
     "nuid": "47956c6e-2fe1-4bd3-88e7-0282b08fb41c",
     "showTitle": true,
     "tableResultSettingsMap": {},
     "title": "Top 10 Sales"
    }
   },
   "outputs": [],
   "source": [
    "%sql\n",
    "SELECT \n",
    "    COUNT(*) as number_of_purchases\n",
    "  , tfs.product_id\n",
    "  , tdp.ProductName AS product_name\n",
    "  , tfs.total_sale AS individual_price\n",
    "  , SUM(tfs.total_sale) as total_sale_amount\n",
    "FROM tv_fact_sales_order_AW tfs\n",
    "JOIN tv_dim_products_AW tdp ON tfs.product_id = tdp.ProductID \n",
    "GROUP BY product_id, total_sale, tdp.ProductName\n",
    "ORDER BY total_sale DESC\n",
    "LIMIT 10;\n",
    "\n"
   ]
  },
  {
   "cell_type": "code",
   "execution_count": 0,
   "metadata": {
    "application/vnd.databricks.v1+cell": {
     "cellMetadata": {
      "byteLimit": 2048000,
      "implicitDf": true,
      "rowLimit": 10000
     },
     "inputWidgets": {},
     "nuid": "c31a16b1-8984-45b9-9adc-47e3e93a82ee",
     "showTitle": true,
     "tableResultSettingsMap": {},
     "title": "Lowest Sales"
    }
   },
   "outputs": [],
   "source": [
    "%sql\n",
    "SELECT \n",
    "    COUNT(*) as number_of_purchases\n",
    "  , tfs.product_id\n",
    "  , tdp.ProductName AS product_name\n",
    "  , tfs.total_sale AS individual_price\n",
    "  , SUM(tfs.total_sale) as total_sale_amount\n",
    "FROM tv_fact_sales_order_AW tfs\n",
    "JOIN tv_dim_products_AW tdp ON tfs.product_id = tdp.ProductID \n",
    "GROUP BY product_id, total_sale, tdp.ProductName\n",
    "ORDER BY number_of_purchases ASC\n",
    "LIMIT 10;"
   ]
  },
  {
   "cell_type": "code",
   "execution_count": 0,
   "metadata": {
    "application/vnd.databricks.v1+cell": {
     "cellMetadata": {
      "byteLimit": 2048000,
      "rowLimit": 10000
     },
     "inputWidgets": {},
     "nuid": "c21865d6-4d77-4438-8f89-110ce6d13c48",
     "showTitle": true,
     "tableResultSettingsMap": {},
     "title": "Exit Notebook"
    }
   },
   "outputs": [],
   "source": [
    "dbutils.notebook.exit(0)"
   ]
  }
 ],
 "metadata": {
  "application/vnd.databricks.v1+notebook": {
   "computePreferences": null,
   "dashboards": [],
   "environmentMetadata": {
    "base_environment": "",
    "environment_version": "2"
   },
   "language": "python",
   "notebookMetadata": {
    "mostRecentlyExecutedCommandWithImplicitDF": {
     "commandId": 1247970760075772,
     "dataframes": [
      "_sqldf"
     ]
    },
    "pythonIndentUnit": 4
   },
   "notebookName": "Analysis_AdventureWorks",
   "widgets": {}
  },
  "language_info": {
   "name": "python"
  }
 },
 "nbformat": 4,
 "nbformat_minor": 0
}
