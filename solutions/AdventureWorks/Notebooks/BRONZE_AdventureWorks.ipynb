{
 "cells": [
  {
   "cell_type": "code",
   "execution_count": 0,
   "metadata": {
    "application/vnd.databricks.v1+cell": {
     "cellMetadata": {
      "byteLimit": 2048000,
      "rowLimit": 10000
     },
     "inputWidgets": {},
     "nuid": "efc74b97-5d97-4604-9960-b9cb285f4f13",
     "showTitle": false,
     "tableResultSettingsMap": {},
     "title": ""
    }
   },
   "outputs": [],
   "source": [
    "%run \"../Configuration\""
   ]
  },
  {
   "cell_type": "code",
   "execution_count": 0,
   "metadata": {
    "application/vnd.databricks.v1+cell": {
     "cellMetadata": {
      "byteLimit": 2048000,
      "rowLimit": 10000
     },
     "inputWidgets": {},
     "nuid": "82d6f800-9d0c-4797-94a4-e9c8eb4eefe5",
     "showTitle": true,
     "tableResultSettingsMap": {},
     "title": "Variables"
    }
   },
   "outputs": [],
   "source": [
    "# Create the widgets:\n",
    "dbutils.widgets.text(\"entityName\", \"\")\n",
    "dbutils.widgets.text(\"entitySourceQuery\", \"\")\n",
    "dbutils.widgets.text(\"sourceSystem\", \"\")\n",
    "\n",
    "# Save widget parameters to variables:\n",
    "entityName = dbutils.widgets.get('entityName')\n",
    "connection = json.loads(dbutils.widgets.get('entitySourceQuery'))\n",
    "sourceSystemName = dbutils.widgets.get('sourceSystem')\n",
    "\n",
    "# Access query from connection:\n",
    "query = connection['sourceQuery']\n",
    "\n",
    "# Access url from connection:\n",
    "url = connection['connectionString']"
   ]
  },
  {
   "cell_type": "code",
   "execution_count": 0,
   "metadata": {
    "application/vnd.databricks.v1+cell": {
     "cellMetadata": {
      "byteLimit": 2048000,
      "rowLimit": 10000
     },
     "inputWidgets": {},
     "nuid": "faeed9ec-8d0b-4b6e-aea4-5a05e96262d7",
     "showTitle": true,
     "tableResultSettingsMap": {},
     "title": "AdventureWorks DF"
    }
   },
   "outputs": [],
   "source": [
    "# Check source system:\n",
    "if sourceSystemName == 'AdventureWorks':\n",
    "    \n",
    "    # Get the CSV file content as a string:\n",
    "    response = requests.get(url)"
   ]
  },
  {
   "cell_type": "code",
   "execution_count": 0,
   "metadata": {
    "application/vnd.databricks.v1+cell": {
     "cellMetadata": {
      "byteLimit": 2048000,
      "rowLimit": 10000
     },
     "inputWidgets": {},
     "nuid": "85b42151-1412-46bf-b9ec-43378af4db35",
     "showTitle": true,
     "tableResultSettingsMap": {},
     "title": "Write"
    }
   },
   "outputs": [],
   "source": [
    "# Check data exists:\n",
    "if response:\n",
    "    # Define file path, filename and filetype:\n",
    "    file_path = f\"/{sourceSystemName}/{entityName}/{date_path}/{entityName}.csv\"\n",
    "    \n",
    "    # Set location for csv file:\n",
    "    location = BRONZE + file_path \n",
    "    \n",
    "    # Write CSV to data lake:\n",
    "    dbutils.fs.put(location, response.content.decode('utf-8'), overwrite=True)\n"
   ]
  },
  {
   "cell_type": "code",
   "execution_count": 0,
   "metadata": {
    "application/vnd.databricks.v1+cell": {
     "cellMetadata": {
      "byteLimit": 2048000,
      "rowLimit": 10000
     },
     "inputWidgets": {},
     "nuid": "10289003-462e-45bd-8527-da73a39666ad",
     "showTitle": true,
     "tableResultSettingsMap": {},
     "title": "Exit"
    }
   },
   "outputs": [],
   "source": [
    "# Output file path for entity:\n",
    "dbutils.notebook.exit(file_path) "
   ]
  }
 ],
 "metadata": {
  "application/vnd.databricks.v1+notebook": {
   "computePreferences": null,
   "dashboards": [],
   "environmentMetadata": {
    "base_environment": "",
    "environment_version": "2"
   },
   "inputWidgetPreferences": null,
   "language": "python",
   "notebookMetadata": {
    "mostRecentlyExecutedCommandWithImplicitDF": {
     "commandId": -1,
     "dataframes": [
      "_sqldf"
     ]
    },
    "pythonIndentUnit": 4
   },
   "notebookName": "BRONZE_AdventureWorks",
   "widgets": {
    "entityName": {
     "currentValue": "customers_AW",
     "nuid": "16003a79-15f2-4711-8a02-45d014a60007",
     "typedWidgetInfo": {
      "autoCreated": false,
      "defaultValue": "",
      "label": null,
      "name": "entityName",
      "options": {
       "validationRegex": null,
       "widgetDisplayType": "Text"
      },
      "parameterDataType": "String"
     },
     "widgetInfo": {
      "defaultValue": "",
      "label": null,
      "name": "entityName",
      "options": {
       "autoCreated": null,
       "validationRegex": null,
       "widgetType": "text"
      },
      "widgetType": "text"
     }
    },
    "entitySourceQuery": {
     "currentValue": "{\"connectionString\": \"https://raw.githubusercontent.com/MicrosoftLearning/dp-203-azure-data-engineer/refs/heads/master/Allfiles/labs/03/data/2020.csv\", \"sourceQuery\": \"None\"}",
     "nuid": "6d94dc50-2775-4d2d-9ff3-031ae29caf7b",
     "typedWidgetInfo": {
      "autoCreated": false,
      "defaultValue": "",
      "label": null,
      "name": "entitySourceQuery",
      "options": {
       "validationRegex": null,
       "widgetDisplayType": "Text"
      },
      "parameterDataType": "String"
     },
     "widgetInfo": {
      "defaultValue": "",
      "label": null,
      "name": "entitySourceQuery",
      "options": {
       "autoCreated": null,
       "validationRegex": null,
       "widgetType": "text"
      },
      "widgetType": "text"
     }
    },
    "sourceSystem": {
     "currentValue": "AdventureWorks",
     "nuid": "9d9b4af3-6fae-48cd-b8c3-d4584764c24e",
     "typedWidgetInfo": {
      "autoCreated": false,
      "defaultValue": "",
      "label": null,
      "name": "sourceSystem",
      "options": {
       "validationRegex": null,
       "widgetDisplayType": "Text"
      },
      "parameterDataType": "String"
     },
     "widgetInfo": {
      "defaultValue": "",
      "label": null,
      "name": "sourceSystem",
      "options": {
       "autoCreated": null,
       "validationRegex": null,
       "widgetType": "text"
      },
      "widgetType": "text"
     }
    }
   }
  },
  "language_info": {
   "name": "python"
  }
 },
 "nbformat": 4,
 "nbformat_minor": 0
}
